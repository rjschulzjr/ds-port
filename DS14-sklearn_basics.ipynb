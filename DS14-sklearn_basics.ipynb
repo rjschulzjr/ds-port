{
 "cells": [
  {
   "cell_type": "markdown",
   "metadata": {
    "deletable": false,
    "editable": false,
    "nbgrader": {
     "grade": false,
     "locked": true,
     "solution": false
    }
   },
   "source": [
    "# `sklearn` Basics  \n",
    "#### The model building process with `sklearn`  \n",
    "\n",
    "---------------------  \n",
    "\n",
    "### Assignment Contents\n",
    "- [The Train/Test Split](#The-Train/Test-Split)\n",
    "- [Model Evaluation](#Model-Evaluation)\n",
    "- [The Model Fitting Process](#The-Model-Fitting-Process)\n",
    "\n",
    "#### EXPECTED TIME 1.5 HRS\n",
    "\n",
    "### Overview\n",
    "This, and the next assignment will review, demonstrate, and test the model building process using `sklearn`. The fundamental process tested in this assignment is the creation of a test/train split. A review of classification metrics \n",
    "\n",
    "### Activities in this Assignment\n",
    "- train_test_split\n",
    "- Reviewing classification metrics\n",
    "- Review model fitting functions"
   ]
  },
  {
   "cell_type": "code",
   "execution_count": 1,
   "metadata": {
    "collapsed": true,
    "deletable": false,
    "editable": false,
    "nbgrader": {
     "grade": false,
     "locked": true,
     "solution": false
    }
   },
   "outputs": [],
   "source": [
    "import pandas as pd\n",
    "import matplotlib.pyplot as plt\n",
    "import numpy as np\n",
    "from sklearn.linear_model import LogisticRegression, LinearRegression\n",
    "import warnings\n",
    "with warnings.catch_warnings():\n",
    "    warnings.simplefilter(\"ignore\")\n",
    "%matplotlib inline"
   ]
  },
  {
   "cell_type": "markdown",
   "metadata": {
    "deletable": false,
    "editable": false,
    "nbgrader": {
     "grade": false,
     "locked": true,
     "solution": false
    }
   },
   "source": [
    "### Reading in office Data\n",
    "The below cell reads in, cleans and parses the `office` dataset which we have seen throughout the course. "
   ]
  },
  {
   "cell_type": "code",
   "execution_count": 2,
   "metadata": {
    "deletable": false,
    "editable": false,
    "nbgrader": {
     "grade": false,
     "locked": true,
     "solution": false
    }
   },
   "outputs": [
    {
     "data": {
      "text/html": [
       "<div>\n",
       "<style scoped>\n",
       "    .dataframe tbody tr th:only-of-type {\n",
       "        vertical-align: middle;\n",
       "    }\n",
       "\n",
       "    .dataframe tbody tr th {\n",
       "        vertical-align: top;\n",
       "    }\n",
       "\n",
       "    .dataframe thead th {\n",
       "        text-align: right;\n",
       "    }\n",
       "</style>\n",
       "<table border=\"1\" class=\"dataframe\">\n",
       "  <thead>\n",
       "    <tr style=\"text-align: right;\">\n",
       "      <th></th>\n",
       "      <th>campaign_period_sales</th>\n",
       "      <th>number_of_transactions</th>\n",
       "      <th>do_not_direct_mail_solicit</th>\n",
       "      <th>do_not_email</th>\n",
       "      <th>do_not_telemarket</th>\n",
       "      <th>email_available</th>\n",
       "      <th>desk</th>\n",
       "      <th>executive_chair</th>\n",
       "      <th>standard_chair</th>\n",
       "      <th>monitor</th>\n",
       "      <th>printer</th>\n",
       "      <th>computer</th>\n",
       "      <th>insurance</th>\n",
       "      <th>toner</th>\n",
       "      <th>office_supplies</th>\n",
       "      <th>premier_service</th>\n",
       "      <th>repurchase_notice</th>\n",
       "      <th>repurchase_auto</th>\n",
       "    </tr>\n",
       "  </thead>\n",
       "  <tbody>\n",
       "    <tr>\n",
       "      <th>0</th>\n",
       "      <td>107.16</td>\n",
       "      <td>20</td>\n",
       "      <td>False</td>\n",
       "      <td>False</td>\n",
       "      <td>False</td>\n",
       "      <td>False</td>\n",
       "      <td>False</td>\n",
       "      <td>False</td>\n",
       "      <td>False</td>\n",
       "      <td>False</td>\n",
       "      <td>False</td>\n",
       "      <td>False</td>\n",
       "      <td>False</td>\n",
       "      <td>False</td>\n",
       "      <td>True</td>\n",
       "      <td>False</td>\n",
       "      <td>True</td>\n",
       "      <td>False</td>\n",
       "    </tr>\n",
       "    <tr>\n",
       "      <th>1</th>\n",
       "      <td>110.66</td>\n",
       "      <td>2</td>\n",
       "      <td>False</td>\n",
       "      <td>False</td>\n",
       "      <td>False</td>\n",
       "      <td>False</td>\n",
       "      <td>False</td>\n",
       "      <td>False</td>\n",
       "      <td>False</td>\n",
       "      <td>False</td>\n",
       "      <td>False</td>\n",
       "      <td>False</td>\n",
       "      <td>False</td>\n",
       "      <td>False</td>\n",
       "      <td>False</td>\n",
       "      <td>True</td>\n",
       "      <td>True</td>\n",
       "      <td>False</td>\n",
       "    </tr>\n",
       "    <tr>\n",
       "      <th>2</th>\n",
       "      <td>4697.62</td>\n",
       "      <td>12</td>\n",
       "      <td>False</td>\n",
       "      <td>True</td>\n",
       "      <td>False</td>\n",
       "      <td>True</td>\n",
       "      <td>False</td>\n",
       "      <td>True</td>\n",
       "      <td>False</td>\n",
       "      <td>False</td>\n",
       "      <td>False</td>\n",
       "      <td>False</td>\n",
       "      <td>False</td>\n",
       "      <td>True</td>\n",
       "      <td>True</td>\n",
       "      <td>True</td>\n",
       "      <td>True</td>\n",
       "      <td>False</td>\n",
       "    </tr>\n",
       "    <tr>\n",
       "      <th>3</th>\n",
       "      <td>103.08</td>\n",
       "      <td>9</td>\n",
       "      <td>False</td>\n",
       "      <td>False</td>\n",
       "      <td>False</td>\n",
       "      <td>True</td>\n",
       "      <td>False</td>\n",
       "      <td>False</td>\n",
       "      <td>False</td>\n",
       "      <td>False</td>\n",
       "      <td>False</td>\n",
       "      <td>False</td>\n",
       "      <td>False</td>\n",
       "      <td>True</td>\n",
       "      <td>True</td>\n",
       "      <td>True</td>\n",
       "      <td>False</td>\n",
       "      <td>True</td>\n",
       "    </tr>\n",
       "    <tr>\n",
       "      <th>4</th>\n",
       "      <td>-566.50</td>\n",
       "      <td>1</td>\n",
       "      <td>True</td>\n",
       "      <td>True</td>\n",
       "      <td>True</td>\n",
       "      <td>True</td>\n",
       "      <td>False</td>\n",
       "      <td>False</td>\n",
       "      <td>False</td>\n",
       "      <td>False</td>\n",
       "      <td>False</td>\n",
       "      <td>False</td>\n",
       "      <td>False</td>\n",
       "      <td>False</td>\n",
       "      <td>False</td>\n",
       "      <td>True</td>\n",
       "      <td>True</td>\n",
       "      <td>False</td>\n",
       "    </tr>\n",
       "  </tbody>\n",
       "</table>\n",
       "</div>"
      ],
      "text/plain": [
       "   campaign_period_sales  number_of_transactions  do_not_direct_mail_solicit  \\\n",
       "0                 107.16                      20                       False   \n",
       "1                 110.66                       2                       False   \n",
       "2                4697.62                      12                       False   \n",
       "3                 103.08                       9                       False   \n",
       "4                -566.50                       1                        True   \n",
       "\n",
       "   do_not_email  do_not_telemarket  email_available   desk  executive_chair  \\\n",
       "0         False              False            False  False            False   \n",
       "1         False              False            False  False            False   \n",
       "2          True              False             True  False             True   \n",
       "3         False              False             True  False            False   \n",
       "4          True               True             True  False            False   \n",
       "\n",
       "   standard_chair  monitor  printer  computer  insurance  toner  \\\n",
       "0           False    False    False     False      False  False   \n",
       "1           False    False    False     False      False  False   \n",
       "2           False    False    False     False      False   True   \n",
       "3           False    False    False     False      False   True   \n",
       "4           False    False    False     False      False  False   \n",
       "\n",
       "   office_supplies  premier_service  repurchase_notice  repurchase_auto  \n",
       "0             True            False               True            False  \n",
       "1            False             True               True            False  \n",
       "2             True             True               True            False  \n",
       "3             True             True              False             True  \n",
       "4            False             True               True            False  "
      ]
     },
     "execution_count": 2,
     "metadata": {},
     "output_type": "execute_result"
    }
   ],
   "source": [
    "data_path = \"../resource/asnlib/publicdata/office_supply.csv\"\n",
    "df = pd.read_csv(data_path)\n",
    "\n",
    "# Rename Columns\n",
    "df.columns = [col.strip().replace(' ', '_').lower() for col in df.columns]\n",
    "\n",
    "# Pull out target and explanatory variables\n",
    "X = df.drop('campaign_period_sales', axis = 'columns')\n",
    "y = df['campaign_period_sales']\n",
    "\n",
    "\n",
    "# Function for preprocessing data\n",
    "def office_preprocess(X,y):\n",
    "    # Hard-code lists for dropping and to_bool\n",
    "    # Dropped variables include dates and features with many missing values\n",
    "    to_drop = ['date_of_last_transaction', 'date_of_first_purchase',\n",
    "               'customer_number', 'language',\n",
    "               'last_transaction_channel', 'number_of_employees']\n",
    "    to_bool = ['desk', 'executive_chair', 'standard_chair',\n",
    "               'monitor', 'printer','computer', 'insurance',\n",
    "               'toner', 'office_supplies']\n",
    "    # Hard-code values for notice, auto, and prem\n",
    "    notice = \"NOTICE\"\n",
    "    auto = \"AUTO RENEW\"\n",
    "    prem = \"Premier\"\n",
    "    \n",
    "    # Function to convert and fill \"Y/N\" features\n",
    "    def convert_fill_bool(val):\n",
    "        if val == 'Y': return True\n",
    "        else: return False\n",
    "    \n",
    "    # Function to encode the service as \"premium\" : true or false\n",
    "    def encode_service(val):\n",
    "        if val == prem: return True\n",
    "        else: return False\n",
    "    \n",
    "    # Function to encode the repurchase feature into two columns: \"notice\" true/false and \"auto_renew\" true/false\n",
    "    # \"payment\" plan implied by \"false\" in \"notice\" and \"auto_renew\" columns\n",
    "    def encode_repurchase(series):\n",
    "        \n",
    "        def notice_encode(val):\n",
    "            if val == notice: return True\n",
    "            else: return False\n",
    "        \n",
    "        def auto_renew_encode(val):\n",
    "            if val == auto: return True\n",
    "            else: return False\n",
    "\n",
    "        ser_notice = series.apply(notice_encode)\n",
    "        ser_notice.name = \"repurchase_notice\"\n",
    "        ser_auto = series.apply(auto_renew_encode)\n",
    "        ser_auto.name = \"repurchase_auto\"\n",
    "\n",
    "        return pd.concat([ser_notice, ser_auto], axis = 'columns')\n",
    "    \n",
    "    # Function to transform campaign_period_sales to a float\n",
    "    def transform_target(raw):\n",
    "        # make sure the value is initially cast as a string\n",
    "        raw = str(raw)\n",
    "\n",
    "        # determine if negative or not\n",
    "        if raw.count(\"(\") > 0: sign = -1\n",
    "        else: sign = 1\n",
    "\n",
    "        # remove all spaces, commas, dollar signs, and parentheses\n",
    "        for to_rem in [\" \",\",\",\"$\", \"(\",\")\"]:\n",
    "            raw = raw.replace(to_rem,\"\")\n",
    "        return sign *float(raw)\n",
    "\n",
    "    y_trans = y.apply(transform_target)\n",
    "    \n",
    "    X_trans = X.drop(to_drop, axis = 'columns')\n",
    "    \n",
    "    for col in to_bool:\n",
    "        X_trans[col] = X_trans[col].apply(convert_fill_bool)\n",
    "        \n",
    "    X_trans['premier_service'] = X_trans['service_level'].apply(encode_service)\n",
    "    X_trans.drop('service_level', axis = 'columns', inplace = True)\n",
    "    \n",
    "    repurch = encode_repurchase(X_trans['repurchase_method'])\n",
    "    X_trans = pd.concat([X_trans.drop('repurchase_method', axis = 'columns'), repurch], axis = 'columns')\n",
    "    \n",
    "    return X_trans, y_trans\n",
    "\n",
    "X, y = office_preprocess(X,y)\n",
    "\n",
    "df = pd.concat([y,X],axis = 'columns')\n",
    "\n",
    "df.head()"
   ]
  },
  {
   "cell_type": "markdown",
   "metadata": {
    "deletable": false,
    "editable": false,
    "nbgrader": {
     "grade": false,
     "locked": true,
     "solution": false
    }
   },
   "source": [
    "`sklearn` requires that all data, both target and predictor variables, be numeric. In fact, the first step `sklearn` performs before fitting any model is converting everthing to floats.  \n",
    "\n",
    "At this point, all of the data in our `DataFrame` may be treated as numeric; boolean are treated as 1's for `True` and 0 for `False`"
   ]
  },
  {
   "cell_type": "markdown",
   "metadata": {
    "deletable": false,
    "editable": false,
    "nbgrader": {
     "grade": false,
     "locked": true,
     "solution": false
    }
   },
   "source": [
    "### The Train/Test Split\n",
    "\n",
    "As was demonstrated in lecture 11-4, one of the important parts of evaluating models is the creation of train/test split.  \n",
    "\n",
    "Models do a good job of \"fitting\" to the data they know about; creating a `test_train_split` and/or further \"holdout\" sets allow us to fit models on unseen (out-of-sample) data, offering an idea of how the model will perform on new data. \n",
    "\n",
    "`sklearn` provides the `train_test_split` function in its `model_selection` library. While `train_test_split` has many optional features, at its core, the function splits data into two sets, with a random  $p\\%$ of the data in the training set and the remaining $1-p\\%$ of the data in the testing data set.  \n",
    "\n",
    "The argument `test_size` allows you to specify the proportion of data you wish to be in the test-set. For example, `test_size = .3` Would give a training set of $70\\%$ of the data and a test_set of $30\\%$ of the data.  "
   ]
  },
  {
   "cell_type": "code",
   "execution_count": 3,
   "metadata": {
    "deletable": false,
    "editable": false,
    "nbgrader": {
     "grade": false,
     "locked": true,
     "solution": false
    }
   },
   "outputs": [
    {
     "name": "stdout",
     "output_type": "stream",
     "text": [
      "Training data shape: (32484, 18)\n",
      "Testing data shape: (13923, 18)\n",
      "\n",
      "First few rows/cols of training data:\n",
      "       campaign_period_sales  number_of_transactions\n",
      "16152                 149.96                      18\n",
      "40186                 215.37                      10\n",
      "10194                 939.37                       3\n",
      "22659                 356.91                      15\n",
      "45334                2757.83                       8\n",
      "\n",
      "First few rows/cols of testing data:\n",
      "       campaign_period_sales  number_of_transactions\n",
      "9788                  216.39                      19\n",
      "44482                 280.00                      23\n",
      "42524                 410.85                       9\n",
      "12109                 184.23                      20\n",
      "34773                2279.33                       3\n"
     ]
    }
   ],
   "source": [
    "# Import train_test_split\n",
    "from sklearn.model_selection import train_test_split\n",
    "\n",
    "# specify that 30% of the data should be held out as the test set\n",
    "train, test = train_test_split(df, test_size = .3)\n",
    "\n",
    "print(\"Training data shape:\", train.shape)\n",
    "print(\"Testing data shape:\", test.shape)\n",
    "\n",
    "print(\"\\nFirst few rows/cols of training data:\")\n",
    "print(train.iloc[:5,:2])\n",
    "\n",
    "print(\"\\nFirst few rows/cols of testing data:\")\n",
    "print(test.iloc[:5,:2])"
   ]
  },
  {
   "cell_type": "markdown",
   "metadata": {
    "deletable": false,
    "editable": false,
    "nbgrader": {
     "grade": false,
     "locked": true,
     "solution": false
    }
   },
   "source": [
    "Notice how our target variable `campaign_period_sales` remains attached to the `train` and `test` datasets.  \n",
    "\n",
    "Below they are separated out."
   ]
  },
  {
   "cell_type": "code",
   "execution_count": 4,
   "metadata": {
    "deletable": false,
    "editable": false,
    "nbgrader": {
     "grade": false,
     "locked": true,
     "solution": false
    }
   },
   "outputs": [
    {
     "name": "stdout",
     "output_type": "stream",
     "text": [
      "X_test shape: (13923, 17)\n",
      "y_test shape: (13923,)\n"
     ]
    }
   ],
   "source": [
    "# Taking all rows and from the 2nd column on for the X matrix\n",
    "X_train = train.iloc[:,1:]\n",
    "# Taking just the first column for the y-target\n",
    "y_train = train.iloc[:,0]\n",
    "\n",
    "# Doing the same for the test set\n",
    "X_test = test.iloc[:,1:]\n",
    "y_test = test.iloc[:,0]\n",
    "\n",
    "print(\"X_test shape:\", X_test.shape)\n",
    "print(\"y_test shape:\", y_test.shape)"
   ]
  },
  {
   "cell_type": "markdown",
   "metadata": {
    "deletable": false,
    "editable": false,
    "nbgrader": {
     "grade": false,
     "locked": true,
     "solution": false
    }
   },
   "source": [
    "It is also possible to separate the X and y before passing to the `train_test_split` function, as shown below:"
   ]
  },
  {
   "cell_type": "code",
   "execution_count": 5,
   "metadata": {
    "deletable": false,
    "editable": false,
    "nbgrader": {
     "grade": false,
     "locked": true,
     "solution": false
    }
   },
   "outputs": [
    {
     "name": "stdout",
     "output_type": "stream",
     "text": [
      "X_test shape: (32484, 17)\n",
      "y_test shape: (13923,)\n"
     ]
    }
   ],
   "source": [
    "X = df.drop(\"campaign_period_sales\", axis = 'columns')\n",
    "y = df.loc[:, 'campaign_period_sales']\n",
    "X_train, X_test, y_train, y_test = train_test_split(X,y, test_size = .3)\n",
    "\n",
    "print(\"X_test shape:\", X_train.shape)\n",
    "print(\"y_test shape:\", y_test.shape)"
   ]
  },
  {
   "cell_type": "markdown",
   "metadata": {
    "deletable": false,
    "editable": false,
    "nbgrader": {
     "grade": false,
     "locked": true,
     "solution": false
    }
   },
   "source": [
    "**The below cell provides data for Questions 1/2**"
   ]
  },
  {
   "cell_type": "code",
   "execution_count": 6,
   "metadata": {
    "collapsed": true,
    "deletable": false,
    "editable": false,
    "nbgrader": {
     "grade": false,
     "locked": true,
     "solution": false
    }
   },
   "outputs": [],
   "source": [
    "data_path = \"../resource/asnlib/publicdata/office_supply.csv\"\n",
    "df = pd.read_csv(data_path)\n",
    "df.columns = [col.strip().replace(' ', '_').lower() for col in df.columns]\n",
    "X = df.drop('campaign_period_sales', axis = 'columns')\n",
    "y = df['campaign_period_sales']\n",
    "\n",
    "X, y = office_preprocess(X,y)\n",
    "\n",
    "df = pd.concat([y,X],axis = 'columns')"
   ]
  },
  {
   "cell_type": "markdown",
   "metadata": {
    "deletable": false,
    "editable": false,
    "nbgrader": {
     "grade": false,
     "locked": true,
     "solution": false
    }
   },
   "source": [
    "#### Question 1\n",
    "\n",
    "Given the technique of your choosing, create a train-test split with $22\\%$ of the data in the test set.\n",
    "\n",
    "This means that the y_test data should have 10,210 rows of `'campaign_period_sales'` data; the X_test should have 10,210 rows and all other 17 columns.  \n",
    "\n",
    "The X_train and y_train should have the same **_columns_** as the `test` data. But the `train` data should include the other 36,197 rows. "
   ]
  },
  {
   "cell_type": "code",
   "execution_count": 7,
   "metadata": {},
   "outputs": [
    {
     "name": "stdout",
     "output_type": "stream",
     "text": [
      "X_test shape: (36197, 17)\n",
      "y_test shape: (10210,)\n"
     ]
    }
   ],
   "source": [
    "### GRADED\n",
    "\n",
    "### Assign data with appropriate shapes, but randomly selected values to `X_train, X_test, y_train, and y_test`  \n",
    "\n",
    "### The train_test_split may be created from either `X` and `y` or `df` depending on your preference\n",
    "### NOTE: the `X` in the variable names is capitalized.\n",
    "\n",
    "### YOUR ANSWER BELOW\n",
    "X_train, X_test, y_train, y_test = train_test_split(X,y, test_size = .22)\n",
    "\n",
    "print(\"X_test shape:\", X_train.shape)\n",
    "print(\"y_test shape:\", y_test.shape)"
   ]
  },
  {
   "cell_type": "code",
   "execution_count": 8,
   "metadata": {
    "collapsed": true,
    "deletable": false,
    "editable": false,
    "nbgrader": {
     "grade": true,
     "grade_id": "Question 1",
     "locked": true,
     "points": "15",
     "solution": false
    }
   },
   "outputs": [],
   "source": [
    "###\n",
    "### AUTOGRADER TEST - DO NOT REMOVE\n",
    "###\n"
   ]
  },
  {
   "cell_type": "markdown",
   "metadata": {
    "deletable": false,
    "editable": false,
    "nbgrader": {
     "grade": false,
     "locked": true,
     "solution": false
    }
   },
   "source": [
    "Performing the train_test_split is a critical step in building any model. Thus it is tested again below\n",
    "#### Question 2\n",
    "\n",
    "Given the technique of your choosing, create a train-test split with $15\\%$ of the data in the test set.\n",
    "\n",
    "This means that the y_test data should have 6,962 rows of `'campaign_period_sales'` data; the X_test should have 6,9620 rows and all other 17 columns.  \n",
    "\n",
    "Column wise, the X_train and y_train should be identical to the `test` data. But they should include the other 39,445 rows. "
   ]
  },
  {
   "cell_type": "code",
   "execution_count": 9,
   "metadata": {},
   "outputs": [
    {
     "name": "stdout",
     "output_type": "stream",
     "text": [
      "X_test shape: (39445, 17)\n",
      "y_test shape: (6962,)\n"
     ]
    }
   ],
   "source": [
    "### GRADED\n",
    "\n",
    "### Assign data with appropriate shapes, but randomly selected values to `X_train, X_test, y_train, and y_test`  \n",
    "\n",
    "### The train_test_split may be created from either `X` and `y` or `df` depending on your preference\n",
    "### NOTE: the `X` in the variable names is capitalized.\n",
    "\n",
    "### YOUR ANSWER BELOW\n",
    "\n",
    "X_train, X_test, y_train, y_test = train_test_split(X,y, test_size = .15)\n",
    "\n",
    "print(\"X_test shape:\", X_train.shape)\n",
    "print(\"y_test shape:\", y_test.shape)"
   ]
  },
  {
   "cell_type": "code",
   "execution_count": 10,
   "metadata": {
    "collapsed": true,
    "deletable": false,
    "editable": false,
    "nbgrader": {
     "grade": true,
     "grade_id": "Question 2",
     "locked": true,
     "points": "15",
     "solution": false
    }
   },
   "outputs": [],
   "source": [
    "###\n",
    "### AUTOGRADER TEST - DO NOT REMOVE\n",
    "###\n"
   ]
  },
  {
   "cell_type": "markdown",
   "metadata": {
    "deletable": false,
    "editable": false,
    "nbgrader": {
     "grade": false,
     "locked": true,
     "solution": false
    }
   },
   "source": [
    "#### Question 3"
   ]
  },
  {
   "cell_type": "code",
   "execution_count": 11,
   "metadata": {
    "collapsed": true
   },
   "outputs": [],
   "source": [
    "### GRADED\n",
    "### Why is it important to use a train_test_split in model building?\n",
    "### 'a') To reduce correlation between factors\n",
    "### 'b') To reduce processing time\n",
    "### 'c') To simulate out of sample data\n",
    "### 'd') To simulate errors in our data\n",
    "### Assign character associated with your choice as string to ans1\n",
    "### YOUR ANSWER BELOW\n",
    "\n",
    "ans1 = 'c'"
   ]
  },
  {
   "cell_type": "code",
   "execution_count": 12,
   "metadata": {
    "collapsed": true,
    "deletable": false,
    "editable": false,
    "nbgrader": {
     "grade": true,
     "grade_id": "Question 3",
     "locked": true,
     "points": "5",
     "solution": false
    }
   },
   "outputs": [],
   "source": [
    "###\n",
    "### AUTOGRADER TEST - DO NOT REMOVE\n",
    "###\n"
   ]
  },
  {
   "cell_type": "markdown",
   "metadata": {
    "deletable": false,
    "editable": false,
    "nbgrader": {
     "grade": false,
     "locked": true,
     "solution": false
    }
   },
   "source": [
    "Below a train/test split is created on our dataframe with two twists; The target; `'campaign_period_sales'` is modified to be binary; \"True\" for values greater than or equal to the mean, and \"False\" for values less than the mean.  \n",
    "\n",
    "Also, the train-test split is made with set indicies for reproducibility.  \n",
    "NOTE: this is only done here for demonstration and should not be done in practice."
   ]
  },
  {
   "cell_type": "code",
   "execution_count": 13,
   "metadata": {
    "deletable": false,
    "editable": false,
    "nbgrader": {
     "grade": false,
     "locked": true,
     "solution": false
    }
   },
   "outputs": [
    {
     "name": "stdout",
     "output_type": "stream",
     "text": [
      "0    False\n",
      "1    False\n",
      "2     True\n",
      "3    False\n",
      "4    False\n",
      "Name: campaign_period_sales, dtype: bool\n"
     ]
    }
   ],
   "source": [
    "X = df.drop(\"campaign_period_sales\", axis = 'columns')\n",
    "y = df.loc[:, 'campaign_period_sales'].apply(lambda x: x >= df['campaign_period_sales'].mean())\n",
    "print(y.head())\n",
    "\n",
    "split_index = 13922\n",
    "X_test = X.iloc[:split_index, :]\n",
    "X_train = X.iloc[split_index:, :]\n",
    "y_test = y.iloc[:split_index]\n",
    "y_train = y.iloc[split_index:]"
   ]
  },
  {
   "cell_type": "markdown",
   "metadata": {
    "deletable": false,
    "editable": false,
    "nbgrader": {
     "grade": false,
     "locked": true,
     "solution": false
    }
   },
   "source": [
    "Now we can import our `LinearRegression` model from `sklearn`, fitting it on the `X_train` and `y_train` from above, and predicting on the `X_test` data.  \n",
    "\n",
    "Finally, a threshold of .5 will be used for assigning the X_test predictions to True (1) or False (0)"
   ]
  },
  {
   "cell_type": "code",
   "execution_count": 14,
   "metadata": {
    "deletable": false,
    "editable": false,
    "nbgrader": {
     "grade": false,
     "locked": true,
     "solution": false
    }
   },
   "outputs": [
    {
     "data": {
      "text/plain": [
       "array([False,  True, False, ..., False,  True, False])"
      ]
     },
     "execution_count": 14,
     "metadata": {},
     "output_type": "execute_result"
    }
   ],
   "source": [
    "from sklearn.linear_model import LinearRegression\n",
    "\n",
    "lr = LinearRegression()\n",
    "lr.fit(X_train, y_train)\n",
    "\n",
    "raw_predictions = lr.predict(X_test)\n",
    "preds = raw_predictions >=.5\n",
    "preds"
   ]
  },
  {
   "cell_type": "markdown",
   "metadata": {
    "deletable": false,
    "editable": false,
    "nbgrader": {
     "grade": false,
     "locked": true,
     "solution": false
    }
   },
   "source": [
    "### Model Evaluation\n",
    "Below, the `confusion_matrix` is imported from `sklearn.metrics`"
   ]
  },
  {
   "cell_type": "code",
   "execution_count": 15,
   "metadata": {
    "deletable": false,
    "editable": false,
    "nbgrader": {
     "grade": false,
     "locked": true,
     "solution": false
    }
   },
   "outputs": [
    {
     "name": "stdout",
     "output_type": "stream",
     "text": [
      "Confusion matrix:\n",
      "[[9472  673]\n",
      " [ 656 3121]]\n"
     ]
    }
   ],
   "source": [
    "from sklearn.metrics import confusion_matrix\n",
    "print(\"Confusion matrix:\\n\", confusion_matrix(y_test, preds), sep = \"\")"
   ]
  },
  {
   "cell_type": "markdown",
   "metadata": {
    "deletable": false,
    "editable": false,
    "nbgrader": {
     "grade": false,
     "locked": true,
     "solution": false
    }
   },
   "source": [
    "In the confusion matrix above, the upper left it True Negatives (tn), the upper right is False Positive (fp), the lower left is False Negatives (fn), and the lower right is True Positive (tp).  \n",
    "Below are equations for various metrics involving these observations  \n",
    "\n",
    "\n",
    "**Precision:** $$\\frac{\\text{TP}}{\\text{TP+FP}}$$  \n",
    "\n",
    "**Recall (True-Positive Rate):**$$\\frac{\\text{TP}}{\\text{TP+FN}}$$  \n",
    "\n",
    "**False-Positive Rate:** $$\\frac{\\text{FP}}{\\text{TN+FP}}$$  \n",
    "\n",
    "These equations are also described in Lecture 11-5  \n",
    "\n",
    "For the purposes of the next few questions, assume the confusion matrix came out as below:\n",
    "\n",
    "|       |Predicted F | Predicted T|\n",
    "|------|------|------|\n",
    "|**Actual F**|9472|673|\n",
    "|**Actual T**|656|3121|\n",
    "\n",
    "Given this potential confusion matrix above::\n",
    "\n",
    "tn = 9472  \n",
    "fp = 673  \n",
    "fn = 656  \n",
    "tp = 3121   \n",
    "\n",
    "\n",
    "The Precision is would then be:\n",
    "$\\frac{\\text{TP}}{\\text{TP+FP}} = \\frac{3121}{3121+673} = \\frac{3121}{3794} \\approx .8226$   \n",
    "\n",
    "#### Question 4"
   ]
  },
  {
   "cell_type": "code",
   "execution_count": null,
   "metadata": {
    "collapsed": true
   },
   "outputs": [],
   "source": [
    "### GRADED\n",
    "\n",
    "### What is the Recall of our model?\n",
    "### Assign answer to the variable `recall`\n",
    "\n",
    "### YOUR ANSWER BELOW\n",
    "   \n",
    "recall = .8263\n"
   ]
  },
  {
   "cell_type": "code",
   "execution_count": null,
   "metadata": {
    "collapsed": true,
    "deletable": false,
    "editable": false,
    "nbgrader": {
     "grade": true,
     "grade_id": "Question 4",
     "locked": true,
     "points": "10",
     "solution": false
    }
   },
   "outputs": [],
   "source": [
    "###\n",
    "### AUTOGRADER TEST - DO NOT REMOVE\n",
    "###\n"
   ]
  },
  {
   "cell_type": "markdown",
   "metadata": {
    "deletable": false,
    "editable": false,
    "nbgrader": {
     "grade": false,
     "locked": true,
     "solution": false
    }
   },
   "source": [
    "#### Question 5"
   ]
  },
  {
   "cell_type": "code",
   "execution_count": null,
   "metadata": {
    "collapsed": true
   },
   "outputs": [],
   "source": [
    "### GRADED\n",
    "\n",
    "### What is the False-Positive Rate of our model?\n",
    "### Assign answer to the variable `fpr`\n",
    "\n",
    "### YOUR ANSWER BELOW\n",
    "  \n",
    "\n",
    "fpr = .0663"
   ]
  },
  {
   "cell_type": "code",
   "execution_count": null,
   "metadata": {
    "collapsed": true,
    "deletable": false,
    "editable": false,
    "nbgrader": {
     "grade": true,
     "grade_id": "Question 5",
     "locked": true,
     "points": "10",
     "solution": false
    }
   },
   "outputs": [],
   "source": [
    "###\n",
    "### AUTOGRADER TEST - DO NOT REMOVE\n",
    "###\n"
   ]
  },
  {
   "cell_type": "markdown",
   "metadata": {
    "deletable": false,
    "editable": false,
    "nbgrader": {
     "grade": false,
     "locked": true,
     "solution": false
    }
   },
   "source": [
    "#### Question 6"
   ]
  },
  {
   "cell_type": "code",
   "execution_count": null,
   "metadata": {
    "collapsed": true
   },
   "outputs": [],
   "source": [
    "### GRADED\n",
    "### Assume a classification problem trying to predict 1 or 0;\n",
    "### with '1' being the (positve) presence of some trait\n",
    "### A True-Positive is?\n",
    "### 'a') Predicted: 0, Actual 0\n",
    "### 'b') Predicted: 0, Actual 1\n",
    "### 'c') Predicted: 1, Actual 0\n",
    "### 'd') Predicted: 1, Actual 1\n",
    "### Assign character associated with your choice as string to ans1\n",
    "### YOUR ANSWER BELOW\n",
    "\n",
    "ans1 = 'd'"
   ]
  },
  {
   "cell_type": "code",
   "execution_count": null,
   "metadata": {
    "collapsed": true,
    "deletable": false,
    "editable": false,
    "nbgrader": {
     "grade": true,
     "grade_id": "Question 6",
     "locked": true,
     "points": "5",
     "solution": false
    }
   },
   "outputs": [],
   "source": [
    "###\n",
    "### AUTOGRADER TEST - DO NOT REMOVE\n",
    "###\n"
   ]
  },
  {
   "cell_type": "markdown",
   "metadata": {
    "deletable": false,
    "editable": false,
    "nbgrader": {
     "grade": false,
     "locked": true,
     "solution": false
    }
   },
   "source": [
    "#### Question 7"
   ]
  },
  {
   "cell_type": "code",
   "execution_count": null,
   "metadata": {
    "collapsed": true
   },
   "outputs": [],
   "source": [
    "### GRADED\n",
    "### Assume a classification problem trying to predict 1 or 0;\n",
    "### with '1' being the (positive) presence of some trait\n",
    "### A True-Negative is?\n",
    "### 'a') Predicted: 0, Actual 0\n",
    "### 'b') Predicted: 0, Actual 1\n",
    "### 'c') Predicted: 1, Actual 0\n",
    "### 'd') Predicted: 1, Actual 1\n",
    "### Assign character associated with your choice as string to ans1\n",
    "### YOUR ANSWER BELOW\n",
    "\n",
    "ans1 = 'a'"
   ]
  },
  {
   "cell_type": "code",
   "execution_count": null,
   "metadata": {
    "collapsed": true,
    "deletable": false,
    "editable": false,
    "nbgrader": {
     "grade": true,
     "grade_id": "Question 7",
     "locked": true,
     "points": "5",
     "solution": false
    }
   },
   "outputs": [],
   "source": [
    "###\n",
    "### AUTOGRADER TEST - DO NOT REMOVE\n",
    "###\n"
   ]
  },
  {
   "cell_type": "markdown",
   "metadata": {
    "deletable": false,
    "editable": false,
    "nbgrader": {
     "grade": false,
     "locked": true,
     "solution": false
    }
   },
   "source": [
    "#### Question 8"
   ]
  },
  {
   "cell_type": "code",
   "execution_count": null,
   "metadata": {
    "collapsed": true
   },
   "outputs": [],
   "source": [
    "### GRADED\n",
    "### A better model will have an AUC score:\n",
    "### 'a') closer to 0\n",
    "### 'b') closer to .5\n",
    "### 'c') closer to 1\n",
    "### Assign character associated with your choice as string to ans1\n",
    "### Covered in Lecture 11-6\n",
    "### YOUR ANSWER BELOW\n",
    "\n",
    "ans1 = 'c'"
   ]
  },
  {
   "cell_type": "code",
   "execution_count": null,
   "metadata": {
    "collapsed": true,
    "deletable": false,
    "editable": false,
    "nbgrader": {
     "grade": true,
     "grade_id": "Question 8",
     "locked": true,
     "points": "5",
     "solution": false
    }
   },
   "outputs": [],
   "source": [
    "###\n",
    "### AUTOGRADER TEST - DO NOT REMOVE\n",
    "###\n"
   ]
  },
  {
   "cell_type": "markdown",
   "metadata": {
    "deletable": false,
    "editable": false,
    "nbgrader": {
     "grade": false,
     "locked": true,
     "solution": false
    }
   },
   "source": [
    "### The Model Fitting Process\n",
    "\n",
    "The most important part of the model creation process not yet focused on either in this assignment or in lecture is the actually fitting of the model.  \n",
    "\n",
    "In fact, if you weren't paying attention you might have missed it.  \n",
    "\n",
    "Thus far, both in the lecture and in this assignment, we have fit a `LinearRegression` model in `sklearn`. In another lecture a Linear Regression model was fit using `statsmodels`.  \n",
    "\n",
    "In this and the next assignment, we will focus on model building with `sklearn`. Thankfully, the syntax for creating `sklearn` models is remarkably consistent.  \n",
    "\n",
    "Below, we again fit a `LinearRegression` model on the `True/False` target, but we also fit a `LogisticRegression` model"
   ]
  },
  {
   "cell_type": "code",
   "execution_count": 16,
   "metadata": {
    "deletable": false,
    "editable": false,
    "nbgrader": {
     "grade": false,
     "locked": true,
     "solution": false
    }
   },
   "outputs": [
    {
     "name": "stderr",
     "output_type": "stream",
     "text": [
      "/usr/local/lib/python3.6/site-packages/sklearn/linear_model/logistic.py:432: FutureWarning: Default solver will be changed to 'lbfgs' in 0.22. Specify a solver to silence this warning.\n",
      "  FutureWarning)\n"
     ]
    },
    {
     "name": "stdout",
     "output_type": "stream",
     "text": [
      "Confusion matrix with Linear Regression:\n",
      "[[9472  673]\n",
      " [ 656 3121]]\n",
      "\n",
      "Confusion matrix with Logistic Regression:\n",
      "[[9558  587]\n",
      " [ 689 3088]]\n"
     ]
    }
   ],
   "source": [
    "from sklearn.linear_model import LogisticRegression\n",
    "\n",
    "# Fitting the LinearRegression (taken almost verbatim from above)\n",
    "\n",
    "linreg = LinearRegression()\n",
    "linreg.fit(X_train, y_train)\n",
    "\n",
    "raw_predictions = linreg.predict(X_test)\n",
    "linpreds = raw_predictions >=.5\n",
    "\n",
    "# Fitting a LogisticRegression\n",
    "# (Note similarity in syntax -- just variable name and instantiated model were changed)\n",
    "logreg = LogisticRegression()\n",
    "logreg.fit(X_train,y_train)\n",
    "logpreds = logreg.predict(X_test)\n",
    "\n",
    "print(\"Confusion matrix with Linear Regression:\\n\", confusion_matrix(y_test, linpreds), sep = \"\")\n",
    "print(\"\\nConfusion matrix with Logistic Regression:\\n\", confusion_matrix(y_test, logpreds), sep = \"\")"
   ]
  },
  {
   "cell_type": "markdown",
   "metadata": {
    "deletable": false,
    "editable": false,
    "nbgrader": {
     "grade": false,
     "locked": true,
     "solution": false
    }
   },
   "source": [
    "The syntax even holds for much more complicated models. Below, a complicated ensemble model is used, yet, the syntax remains the same."
   ]
  },
  {
   "cell_type": "code",
   "execution_count": 17,
   "metadata": {
    "deletable": false,
    "editable": false,
    "nbgrader": {
     "grade": false,
     "locked": true,
     "solution": false
    }
   },
   "outputs": [
    {
     "name": "stdout",
     "output_type": "stream",
     "text": [
      "Confusion matrix with Gradient Boosted Trees:\n",
      "[[9748  397]\n",
      " [ 770 3007]]\n"
     ]
    }
   ],
   "source": [
    "from sklearn.ensemble import GradientBoostingClassifier\n",
    "\n",
    "gbc = GradientBoostingClassifier()\n",
    "gbc.fit(X_train, y_train)\n",
    "\n",
    "gbcpreds = gbc.predict(X_test)\n",
    "\n",
    "print(\"Confusion matrix with Gradient Boosted Trees:\\n\", confusion_matrix(y_test, gbcpreds), sep = \"\")"
   ]
  },
  {
   "cell_type": "markdown",
   "metadata": {
    "deletable": false,
    "editable": false,
    "nbgrader": {
     "grade": false,
     "locked": true,
     "solution": false
    }
   },
   "source": [
    "At this point, hopefully the similarities are starting to become clear. Each of the `sklearn` models can be fit using the `.fit()` method; and predictions may be made using the `.predict()` method.  \n",
    "\n",
    "The `.fit()` method takes the explanatory (X) features as its first argument and the target (y) as its second argument.  \n",
    "\n",
    "Below, you will be asked to provide a model fitted on a provided test_train_split. \n",
    "\n",
    "#### Question 9\n",
    "In the below cell, an `X_train` and `y_train` dataset are provided.  \n",
    "\n",
    "1. Create either a `LinearRegression` or `LogisticRegression` model.\n",
    "2. Fit that model using `X_train` and `y_train`.\n",
    "3. Save that model to the variable `my_classifier`.  \n",
    "\n",
    "NB: In the above examples, models were saved to the variables `lr`, `linreg`, `logreg`, and `gbc`"
   ]
  },
  {
   "cell_type": "code",
   "execution_count": 18,
   "metadata": {},
   "outputs": [
    {
     "data": {
      "text/plain": [
       "array([False,  True, False, ..., False,  True, False])"
      ]
     },
     "execution_count": 18,
     "metadata": {},
     "output_type": "execute_result"
    }
   ],
   "source": [
    "### GRADED\n",
    "\n",
    "### Follow the above directions; saving a model to `my_classifier`\n",
    "### **fit** with the provided `X_train` and `y_train`\n",
    "\n",
    "### YOUR ANSWER BELOW\n",
    "X = df.drop(\"campaign_period_sales\", axis = 'columns')\n",
    "y = df.loc[:, 'campaign_period_sales'].apply(lambda x: x >= df['campaign_period_sales'].mean())\n",
    "X_train = X.iloc[:100, :]\n",
    "y_train = y.iloc[:100]\n",
    "\n",
    "my_classifier = LinearRegression()\n",
    "my_classifier.fit(X_train, y_train)\n",
    "\n",
    "raw_predictions = my_classifier.predict(X_test)\n",
    "preds = raw_predictions >=.5\n",
    "preds"
   ]
  },
  {
   "cell_type": "code",
   "execution_count": null,
   "metadata": {
    "collapsed": true,
    "deletable": false,
    "editable": false,
    "nbgrader": {
     "grade": true,
     "grade_id": "Question 9",
     "locked": true,
     "points": "20",
     "solution": false
    }
   },
   "outputs": [],
   "source": [
    "###\n",
    "### AUTOGRADER TEST - DO NOT REMOVE\n",
    "###\n"
   ]
  },
  {
   "cell_type": "markdown",
   "metadata": {
    "deletable": false,
    "editable": false,
    "nbgrader": {
     "grade": false,
     "locked": true,
     "solution": false
    }
   },
   "source": [
    "#### Question 10"
   ]
  },
  {
   "cell_type": "code",
   "execution_count": null,
   "metadata": {
    "collapsed": true
   },
   "outputs": [],
   "source": [
    "### GRADED\n",
    "### Which of the following methods would NOT be used in model building and evaluation\n",
    "### with `sklearn`?\n",
    "### 'a') `.transform()`\n",
    "### 'b') `.fit()`\n",
    "### 'c') `.predict()`\n",
    "### 'd') `.score()`\n",
    "### Assign character associated with your choice as string to ans1\n",
    "### YOUR ANSWER BELOW\n",
    "\n",
    "ans1 = 'a'"
   ]
  },
  {
   "cell_type": "code",
   "execution_count": null,
   "metadata": {
    "collapsed": true,
    "deletable": false,
    "editable": false,
    "nbgrader": {
     "grade": true,
     "grade_id": "Question 10",
     "locked": true,
     "points": "5",
     "solution": false
    }
   },
   "outputs": [],
   "source": [
    "###\n",
    "### AUTOGRADER TEST - DO NOT REMOVE\n",
    "###\n"
   ]
  }
 ],
 "metadata": {
  "kernelspec": {
   "display_name": "Python 3 [3.6]",
   "language": "python",
   "name": "python3"
  },
  "language_info": {
   "codemirror_mode": {
    "name": "ipython",
    "version": 3
   },
   "file_extension": ".py",
   "mimetype": "text/x-python",
   "name": "python",
   "nbconvert_exporter": "python",
   "pygments_lexer": "ipython3",
   "version": "3.6.4"
  }
 },
 "nbformat": 4,
 "nbformat_minor": 2
}
