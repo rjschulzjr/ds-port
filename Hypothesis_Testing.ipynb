{
 "cells": [
  {
   "cell_type": "markdown",
   "metadata": {
    "deletable": false,
    "editable": false,
    "nbgrader": {
     "grade": false,
     "locked": true,
     "solution": false
    }
   },
   "source": [
    "# Hypothesis Testing\n",
    "#### Answering Questions about Data  \n",
    "\n",
    "------------------\n",
    "\n",
    "### Assignment Contents\n",
    "\n",
    "- [Calculate CI Using Python](#Calculate-CI-Using_Python)\n",
    "- [The T-distribution](#The-T-distribution)  \n",
    "- [Confidence Intervals: Difference of Means](#Confidence-Intervals:-Difference-of-Means)\n",
    "\n",
    "\n",
    "### Overview\n",
    "#### EXPECTED TIME 2 HRS\n",
    "This assignment will review the calculation of confidence intervals and p-values in Python. The examples from lecture will be reproduced using Python functions and packages. Eventually you will be asked to calculate confidence intervals and p-values on your own.\n",
    "\n",
    "### Activities in this Assignment\n",
    "- Calculate confidence intervals\n",
    "    - For means\n",
    "    - For differences of means\n",
    "    - Using t- and z- distributions\n",
    "- Calculate p-values\n",
    "\n",
    "\n",
    "**NOTE: The z-multipliers MUST be calculated with the stats package as demonstrated below. e.g. for a 95% confidence interval, 1.959963... must be used rather than just 1.96**"
   ]
  },
  {
   "cell_type": "markdown",
   "metadata": {
    "deletable": false,
    "editable": false,
    "nbgrader": {
     "grade": false,
     "locked": true,
     "solution": false
    }
   },
   "source": [
    "A quick reminder about a couple of useful \"`numpy`\" functions."
   ]
  },
  {
   "cell_type": "code",
   "execution_count": 2,
   "metadata": {
    "deletable": false,
    "editable": false,
    "nbgrader": {
     "grade": false,
     "locked": true,
     "solution": false
    }
   },
   "outputs": [
    {
     "name": "stdout",
     "output_type": "stream",
     "text": [
      "Taking the mean: 4.0\n",
      "Finding Standard Deviation: 2.0\n",
      "Finding Square-root: 41.689327171351664\n"
     ]
    }
   ],
   "source": [
    "import numpy as np\n",
    "\n",
    "# Calculations of:\n",
    "print(\"Taking the mean:\" ,\n",
    "      np.mean([1,2,3,4,5,6,7]))\n",
    "print(\"Finding Standard Deviation:\",\n",
    "      np.std([1,2,3,4,5,6,7]))\n",
    "print(\"Finding Square-root:\",\n",
    "      np.sqrt(1738))"
   ]
  },
  {
   "cell_type": "markdown",
   "metadata": {
    "deletable": false,
    "editable": false,
    "nbgrader": {
     "grade": false,
     "locked": true,
     "solution": false
    }
   },
   "source": [
    "### Calculate CI Using Python\n",
    "\n",
    "Lets go through the example given in Lecture 7-1 around the 8 minute mark:\n",
    "\n",
    "**Observations:** $n = 56$  \n",
    "**Sample Standard Deviation:** $s = 25$  \n",
    "**Population Standard Deviation:** UNKNOWN  \n",
    "\n",
    "Likelihood that $\\bar{X}$ (the sample mean) is within $\\pm 5$ of $\\mu$?  \n",
    "\n",
    "$P(-5\\le\\bar{X}-\\mu\\le5) = P(-5\\le Error\\le5)$  \n",
    "$P(\\frac{-5}{\\sigma/\\sqrt{n}}\\le Z \\le \\frac{5}{\\sigma/\\sqrt{n}})$  \n",
    "\n",
    "Using sample standard deviation as estimate of $\\sigma$:  \n",
    "\n",
    "$P(\\frac{-5}{25/\\sqrt{56}}\\le Z \\le \\frac{5}{25/\\sqrt{56}})$  \n",
    "$P(\\frac{-5}{3.34...}\\le Z \\le \\frac{5}{3.34...})$  \n",
    "$P(-1.49666\\le Z \\le 1.49666)$  \n",
    "\n",
    "Because of the symmetry of the normal distribution, this is equal to:\n",
    "\n",
    "$=1 - 2 * P(Z \\ge 1.49)$  \n",
    "$ = 1- 2 * (1-P(Z\\le 1.49))$  \n",
    "$= 1-2*P(Z\\le-1.49))$  \n",
    "(Rounding used to match lecture)\n",
    "\n",
    "\n",
    "Note above how $P(Z \\ge 1.49)$ is changed to $P(Z\\le -1.49)$. The reason for this is $P(Z\\le y)$ maybe easily calculated for any value of $y$ with the \"`.cdf()`\" function in the stats package.  \n",
    "\n",
    "Shown below:"
   ]
  },
  {
   "cell_type": "code",
   "execution_count": 3,
   "metadata": {
    "deletable": false,
    "editable": false,
    "nbgrader": {
     "grade": false,
     "locked": true,
     "solution": false
    }
   },
   "outputs": [
    {
     "data": {
      "text/plain": [
       "0.8637757640665491"
      ]
     },
     "execution_count": 3,
     "metadata": {},
     "output_type": "execute_result"
    }
   ],
   "source": [
    "import scipy.stats as stats\n",
    "1 - 2 * stats.norm.cdf(-1.49)"
   ]
  },
  {
   "cell_type": "markdown",
   "metadata": {
    "deletable": false,
    "editable": false,
    "nbgrader": {
     "grade": false,
     "locked": true,
     "solution": false
    }
   },
   "source": [
    "Continuing the example,creating the confidence interval.  \n",
    "\n",
    "The interval is:\n",
    "$$\\Big( \\bar{X} - Z_{\\alpha/2}\\cdot\\frac{\\sigma}{\\sqrt{n}}\\ ,\\ \\bar{X} + Z_{\\alpha/2}\\cdot\\frac{\\sigma}{\\sqrt{n}} \\Big)$$  \n",
    "\n",
    "To calculate $Z_{\\alpha/2}$ for a 95% confidence interval we can use the \"`.interval()`\" function or the \"`.ppf()`\" function. Both of which were covered more extensively in earlier assignments."
   ]
  },
  {
   "cell_type": "code",
   "execution_count": 4,
   "metadata": {
    "deletable": false,
    "editable": false,
    "nbgrader": {
     "grade": false,
     "locked": true,
     "solution": false
    }
   },
   "outputs": [
    {
     "name": "stdout",
     "output_type": "stream",
     "text": [
      "(-1.959963984540054, 1.959963984540054)\n",
      "1.959963984540054\n",
      "-1.959963984540054\n"
     ]
    }
   ],
   "source": [
    "print(stats.norm.interval(.95))\n",
    "print(stats.norm.ppf( 1- ((1 - .95)/2)))\n",
    "print(stats.norm.ppf( (1 - .95)/2))"
   ]
  },
  {
   "cell_type": "markdown",
   "metadata": {
    "deletable": false,
    "editable": false,
    "nbgrader": {
     "grade": false,
     "locked": true,
     "solution": false
    }
   },
   "source": [
    "Calculating the confidence interval:"
   ]
  },
  {
   "cell_type": "code",
   "execution_count": 5,
   "metadata": {
    "deletable": false,
    "editable": false,
    "nbgrader": {
     "grade": false,
     "locked": true,
     "solution": false
    }
   },
   "outputs": [
    {
     "name": "stdout",
     "output_type": "stream",
     "text": [
      "0.975\n",
      "\n",
      "Conventional Calulation:\n",
      " (128.45221989235253, 141.54778010764747)\n",
      "\n",
      "Calculation with .interval():\n",
      " (128.45221989235253, 141.54778010764747)\n"
     ]
    }
   ],
   "source": [
    "alpha = .95\n",
    "interval_end = 1-((1-alpha)/2)\n",
    "print(interval_end)\n",
    "z_mult = stats.norm.ppf(interval_end)\n",
    "sd = 25\n",
    "x_bar = 135\n",
    "n = 56\n",
    "\n",
    "# Using our calculated values from above and python to create CI\n",
    "print(\"\\nConventional Calulation:\\n\",\n",
    "      (x_bar - z_mult*(sd/np.sqrt(n)),x_bar + z_mult*(sd/np.sqrt(n)) ))\n",
    "\n",
    "# Calculating CI using the .interval function\n",
    "# (FOR THOSE INTERESTED IN SEEING MORE OF THE STATS PACKAGE)\n",
    "print(\"\\nCalculation with .interval():\\n\",  # \"loc\" is the mean of the distribution, \"scale\" is the sd\n",
    "      stats.norm.interval(alpha = .95, loc = x_bar, scale= sd/ np.sqrt(n)))"
   ]
  },
  {
   "cell_type": "markdown",
   "metadata": {
    "deletable": false,
    "editable": false,
    "nbgrader": {
     "grade": false,
     "locked": true,
     "solution": false
    }
   },
   "source": [
    "#### Question 1"
   ]
  },
  {
   "cell_type": "code",
   "execution_count": 7,
   "metadata": {},
   "outputs": [
    {
     "name": "stdout",
     "output_type": "stream",
     "text": [
      "(127.54791554914397, 132.45208445085603)\n"
     ]
    }
   ],
   "source": [
    "### GRADED\n",
    "\n",
    "### Given point estimate (x_bar), confidence level(Z[alpha/2]), n, and sample standard deviation,\n",
    "### calculate a confidence interval.\n",
    "\n",
    "### Assign the lower bound as a number to \"lower\" and the upper bound as a number to \"upper\"\n",
    "\n",
    "### e.g. In the above example, the correct answer would be:\n",
    "\n",
    "# lower = 128.45222\n",
    "# upper = 141.54778\n",
    "\n",
    "### Answers will be tested to three decimal places\n",
    "\n",
    "### Calculate a 95% confidence interval where the sample mean of 92 observations was 130 with a\n",
    "### sample standard deviation of 12\n",
    "\n",
    "### YOUR ANSWER BELOW\n",
    "\n",
    "x_bar = 130\n",
    "n = 92\n",
    "alpha = .95\n",
    "sd = 12\n",
    "\n",
    "print(stats.norm.interval(alpha = .95, loc = x_bar, scale = sd/np.sqrt(n)))\n",
    "\n",
    "\n",
    "lower = 127.54791554914397\n",
    "upper = 132.45208445085603"
   ]
  },
  {
   "cell_type": "code",
   "execution_count": null,
   "metadata": {
    "collapsed": true,
    "deletable": false,
    "editable": false,
    "nbgrader": {
     "grade": true,
     "grade_id": "Question 1",
     "locked": true,
     "points": "10",
     "solution": false
    }
   },
   "outputs": [],
   "source": [
    "###\n",
    "### AUTOGRADER TEST - DO NOT REMOVE\n",
    "###\n"
   ]
  },
  {
   "cell_type": "markdown",
   "metadata": {
    "deletable": false,
    "editable": false,
    "nbgrader": {
     "grade": false,
     "locked": true,
     "solution": false
    }
   },
   "source": [
    "#### Question 2"
   ]
  },
  {
   "cell_type": "code",
   "execution_count": 9,
   "metadata": {},
   "outputs": [
    {
     "name": "stdout",
     "output_type": "stream",
     "text": [
      "(135.97264113735287, 164.0273588626471)\n"
     ]
    }
   ],
   "source": [
    "### GRADED\n",
    "\n",
    "### Given point estimate (x_bar), confidence level(Z[alpha/2]), n, and sample standard deviation,\n",
    "### calculate a confidence interval.\n",
    "\n",
    "### Assign the lower bound as a number to \"lower\" and the upper bound as a number to \"upper\"\n",
    "\n",
    "### Answers will be tested to three decimal places\n",
    "\n",
    "### Calculate a 90% confidence interval where the sample mean of 22 observations was 150 with a\n",
    "### sample standard deviation of 40\n",
    "\n",
    "### YOUR ANSWER BELOW\n",
    "\n",
    "x_bar = 150\n",
    "n = 22\n",
    "alpha = .90\n",
    "sd = 40\n",
    "\n",
    "print(stats.norm.interval(alpha = .90, loc = x_bar, scale = sd/np.sqrt(n)))\n",
    "\n",
    "lower = 135.97264113735287\n",
    "\n",
    "upper = 164.0273588626471"
   ]
  },
  {
   "cell_type": "code",
   "execution_count": null,
   "metadata": {
    "collapsed": true,
    "deletable": false,
    "editable": false,
    "nbgrader": {
     "grade": true,
     "grade_id": "Question 2",
     "locked": true,
     "points": "10",
     "solution": false
    }
   },
   "outputs": [],
   "source": [
    "###\n",
    "### AUTOGRADER TEST - DO NOT REMOVE\n",
    "###\n"
   ]
  },
  {
   "cell_type": "markdown",
   "metadata": {
    "deletable": false,
    "editable": false,
    "nbgrader": {
     "grade": false,
     "locked": true,
     "solution": false
    }
   },
   "source": [
    "#### Question 3"
   ]
  },
  {
   "cell_type": "code",
   "execution_count": 10,
   "metadata": {},
   "outputs": [
    {
     "name": "stdout",
     "output_type": "stream",
     "text": [
      "(137.6961082315315, 142.3038917684685)\n"
     ]
    }
   ],
   "source": [
    "### GRADED\n",
    "\n",
    "### Given point estimate (x_bar), confidence level(Z[alpha/2]), n, and sample standard deviation,\n",
    "### calculate a confidence interval.\n",
    "\n",
    "### Assign the lower bound as a number to \"lower\" and the upper bound as a number to \"upper\"\n",
    "\n",
    "### Answers will be tested to three decimal places\n",
    "\n",
    "### Calculate a 99% confidence interval where the sample mean of 2000 observations was 140 with a\n",
    "### sample standard deviation of 40\n",
    "\n",
    "### YOUR ANSWER BELOW\n",
    "\n",
    "x_bar = 140\n",
    "n = 2000\n",
    "alpha = .99\n",
    "sd = 40\n",
    "\n",
    "print(stats.norm.interval(alpha = .99, loc = x_bar, scale = sd/np.sqrt(n)))\n",
    "\n",
    "lower = 137.6961082315315\n",
    "\n",
    "upper = 142.3038917684685"
   ]
  },
  {
   "cell_type": "code",
   "execution_count": null,
   "metadata": {
    "collapsed": true,
    "deletable": false,
    "editable": false,
    "nbgrader": {
     "grade": true,
     "grade_id": "Question 3",
     "locked": true,
     "points": "10",
     "solution": false
    }
   },
   "outputs": [],
   "source": [
    "###\n",
    "### AUTOGRADER TEST - DO NOT REMOVE\n",
    "###\n"
   ]
  },
  {
   "cell_type": "markdown",
   "metadata": {
    "deletable": false,
    "editable": false,
    "nbgrader": {
     "grade": false,
     "locked": true,
     "solution": false
    }
   },
   "source": [
    "#### Question 4"
   ]
  },
  {
   "cell_type": "code",
   "execution_count": 11,
   "metadata": {},
   "outputs": [
    {
     "name": "stdout",
     "output_type": "stream",
     "text": [
      "(117.21092235462947, 122.78907764537053)\n"
     ]
    }
   ],
   "source": [
    "### GRADED\n",
    "\n",
    "### Given point estimate (x_bar), confidence level(Z[alpha/2]), n, and sample standard deviation,\n",
    "### calculate a confidence interval.\n",
    "\n",
    "### Assign the lower bound as a number to \"lower\" and the upper bound as a number to \"upper\"\n",
    "\n",
    "### Answers will be tested to three decimal places\n",
    "\n",
    "### Calculate a 95% confidence interval where the sample mean of 40 observations was 120 with a\n",
    "### sample standard deviation of 9\n",
    "\n",
    "### YOUR ANSWER BELOW\n",
    "\n",
    "x_bar = 120\n",
    "n = 40\n",
    "alpha = .95\n",
    "sd = 9\n",
    "\n",
    "print(stats.norm.interval(alpha = .95, loc = x_bar, scale = sd/np.sqrt(n)))\n",
    "\n",
    "lower = 117.21092235462947\n",
    "\n",
    "upper = 122.78907764537053"
   ]
  },
  {
   "cell_type": "code",
   "execution_count": null,
   "metadata": {
    "collapsed": true,
    "deletable": false,
    "editable": false,
    "nbgrader": {
     "grade": true,
     "grade_id": "Question 4",
     "locked": true,
     "points": "10",
     "solution": false
    }
   },
   "outputs": [],
   "source": [
    "###\n",
    "### AUTOGRADER TEST - DO NOT REMOVE\n",
    "###\n"
   ]
  },
  {
   "cell_type": "markdown",
   "metadata": {
    "deletable": false,
    "editable": false,
    "nbgrader": {
     "grade": false,
     "locked": true,
     "solution": false
    }
   },
   "source": [
    "### The T-distribution\n",
    "*When $\\sigma$ is unknown, and \"n\" is small: Lecture 7-3*\n",
    "\n",
    "The \"`stats`\" package has a library for the t distribution.  \n",
    "\n",
    "The \"`t`\" library functions similarly to the \"`norm`\" library, except that degrees of freedom must be specified. Remember, degrees of freedom (df) in these cases is $n - 1$. Thus 21 observations would yeild $df = 20$\n",
    "\n",
    "\n",
    "The below shows how to calculate the values from the t-distribution discussed and looked up in the t-table in lecture 7-3."
   ]
  },
  {
   "cell_type": "code",
   "execution_count": 12,
   "metadata": {
    "deletable": false,
    "editable": false,
    "nbgrader": {
     "grade": false,
     "locked": true,
     "solution": false
    }
   },
   "outputs": [
    {
     "name": "stdout",
     "output_type": "stream",
     "text": [
      "normal distributions; 2.5% in tails; interval (-1.959963984540054, 1.959963984540054)\n",
      "\n",
      "t-distribution; 2.5% in tails; df = 20; interval (-2.0859634472658364, 2.0859634472658364)\n",
      "t-distribution; 2.5% in tails; df = 5; interval (-2.5705818366147395, 2.5705818366147395)\n",
      "t-distribution; 2.5% in tails; df = 5; ppf 2.5705818366147395\n"
     ]
    }
   ],
   "source": [
    "print(\"normal distributions; 2.5% in tails; interval\",\n",
    "      stats.norm.interval(.95))\n",
    "\n",
    "print(\"\\nt-distribution; 2.5% in tails; df = 20; interval\",\n",
    "      stats.t.interval(.95, df = 20))\n",
    "\n",
    "print(\"t-distribution; 2.5% in tails; df = 5; interval\",\n",
    "      stats.t.interval(.95, df = 5))\n",
    "\n",
    "print(\"t-distribution; 2.5% in tails; df = 5; ppf\",\n",
    "      stats.t.ppf(.975, df = 5))"
   ]
  },
  {
   "cell_type": "markdown",
   "metadata": {
    "deletable": false,
    "editable": false,
    "nbgrader": {
     "grade": false,
     "locked": true,
     "solution": false
    }
   },
   "source": [
    "#### Example:\n",
    "Given a set of observations, and a confidence level of 95%, calculate the confidence interval with a t-distribution:  "
   ]
  },
  {
   "cell_type": "code",
   "execution_count": 13,
   "metadata": {
    "deletable": false,
    "editable": false,
    "nbgrader": {
     "grade": false,
     "locked": true,
     "solution": false
    }
   },
   "outputs": [
    {
     "name": "stdout",
     "output_type": "stream",
     "text": [
      "Sample Mean:   119.8125\n",
      "Observations (n):   16\n",
      "Sample sd:   6.606992034958117\n",
      "t-multiplier:   2.131449545559323\n",
      "\n",
      "Confidence Interval:   119.8125 +/- 3.5206\n"
     ]
    }
   ],
   "source": [
    "observations = [121, 110, 126, 112, 129, 118, 126, 127, 126, 111, 127, 113, 126, 115, 114, 116]\n",
    "\n",
    "n = len(observations) # find \"n\" -- the number of observations\n",
    "x_bar = np.mean(observations) # find \"x_bar\"-- the sample mean\n",
    "sd = np.std(observations) # find the sample standard deviation\n",
    "alpha = .95\n",
    "t_mult = stats.t.interval (alpha, df = n-1)[1]\n",
    "\n",
    "print(\"Sample Mean:  \", x_bar)\n",
    "print(\"Observations (n):  \", n)\n",
    "print(\"Sample sd:  \", sd)\n",
    "print(\"t-multiplier:  \", t_mult)\n",
    "\n",
    "print(\"\\nConfidence Interval:  \", x_bar, \"+/-\", round(t_mult * (sd / np.sqrt(n)),4))"
   ]
  },
  {
   "cell_type": "markdown",
   "metadata": {
    "deletable": false,
    "editable": false,
    "nbgrader": {
     "grade": false,
     "locked": true,
     "solution": false
    }
   },
   "source": [
    "Thus, given the above 16 observations, we can caluclate the 95% confidence interval from a t-distribution; spanning from ~116.3 to ~123.3   \n",
    "\n",
    "#### Question 5"
   ]
  },
  {
   "cell_type": "code",
   "execution_count": 15,
   "metadata": {},
   "outputs": [
    {
     "name": "stdout",
     "output_type": "stream",
     "text": [
      "Sample Mean:   122.0\n",
      "Observations (n):   18\n",
      "Sample sd:   13.888444437333106\n",
      "t-multiplier:   2.1098155778331806\n",
      "\n",
      "Confidence Interval:   122.0 +/- 6.9066\n",
      "115.0934 128.9066\n"
     ]
    }
   ],
   "source": [
    "### GRADED\n",
    "\n",
    "### Calculate the 95% confidence interval (with a t-distribution)\n",
    "### of the data stored in the\"observations\" variable below\n",
    "\n",
    "### Assign the lower bound as a number to \"lower\" and the upper bound as a number to \"upper\"\n",
    "\n",
    "### Answers will be tested to three decimal places\n",
    "\n",
    "### YOUR ANSWER BELOW\n",
    "\n",
    "observations = [104, 148, 109, 104, 108, 120, 134, 129, 140, 128, 142, 113, 125, 111, 132, 133, 109, 107]\n",
    "\n",
    "n = len(observations) # find \"n\" -- the number of observations\n",
    "x_bar = np.mean(observations) # find \"x_bar\"-- the sample mean\n",
    "sd = np.std(observations) # find the sample standard deviation\n",
    "alpha = .95\n",
    "t_mult = stats.t.interval (alpha, df = n-1)[1]\n",
    "\n",
    "print(\"Sample Mean:  \", x_bar)\n",
    "print(\"Observations (n):  \", n)\n",
    "print(\"Sample sd:  \", sd)\n",
    "print(\"t-multiplier:  \", t_mult)\n",
    "\n",
    "print(\"\\nConfidence Interval:  \", x_bar, \"+/-\", round(t_mult * (sd / np.sqrt(n)),4))\n",
    "up = 122+6.9066\n",
    "low = 122-6.9066\n",
    "print(low, up)\n",
    "\n",
    "lower = 115.0934\n",
    "upper = 128.9066"
   ]
  },
  {
   "cell_type": "code",
   "execution_count": null,
   "metadata": {
    "collapsed": true,
    "deletable": false,
    "editable": false,
    "nbgrader": {
     "grade": true,
     "grade_id": "Question 5",
     "locked": true,
     "points": "10",
     "solution": false
    }
   },
   "outputs": [],
   "source": [
    "###\n",
    "### AUTOGRADER TEST - DO NOT REMOVE\n",
    "###\n"
   ]
  },
  {
   "cell_type": "markdown",
   "metadata": {
    "deletable": false,
    "editable": false,
    "nbgrader": {
     "grade": false,
     "locked": true,
     "solution": false
    }
   },
   "source": [
    "#### Question 6"
   ]
  },
  {
   "cell_type": "code",
   "execution_count": 18,
   "metadata": {},
   "outputs": [
    {
     "name": "stdout",
     "output_type": "stream",
     "text": [
      "Sample Mean:   127.33333333333333\n",
      "Observations (n):   30\n",
      "Sample sd:   13.898041428760944\n",
      "t-multiplier:   2.045229642132703\n",
      "\n",
      "Confidence Interval:   127.33333333333333 +/- 5.1896\n",
      "122.14373333333333 132.52293333333333\n"
     ]
    }
   ],
   "source": [
    "### GRADED\n",
    "\n",
    "### Calculate the 95% confidence interval (with a t-distribution)\n",
    "### of the data stored in the \"observations\" variable below\n",
    "\n",
    "### Assign the lower bound as a number to \"lower\" and the upper bound as a number to \"upper\"\n",
    "\n",
    "### Answers will be tested to three decimal places\n",
    "\n",
    "### YOUR ANSWER BELOW\n",
    "\n",
    "observations = [124, 147, 136, 136, 100, 133, 137, 117, 121, 127, 130, 132, 143,\n",
    "       146, 130, 149, 119, 146, 107, 148, 125, 105, 116, 130, 117, 117,\n",
    "       108, 105, 139, 130]\n",
    "\n",
    "n = len(observations) # find \"n\" -- the number of observations\n",
    "x_bar = np.mean(observations) # find \"x_bar\"-- the sample mean\n",
    "sd = np.std(observations) # find the sample standard deviation\n",
    "alpha = .95\n",
    "t_mult = stats.t.interval (alpha, df = n-1)[1]\n",
    "\n",
    "print(\"Sample Mean:  \", x_bar)\n",
    "print(\"Observations (n):  \", n)\n",
    "print(\"Sample sd:  \", sd)\n",
    "print(\"t-multiplier:  \", t_mult)\n",
    "\n",
    "print(\"\\nConfidence Interval:  \", x_bar, \"+/-\", round(t_mult * (sd / np.sqrt(n)),4))\n",
    "up = 127.33333333333333+5.1896\n",
    "low = 127.33333333333333-5.1896\n",
    "print(low, up)\n",
    "\n",
    "alpha = .95\n",
    "lower = 122.14373333333333\n",
    "upper = 132.52293333333333"
   ]
  },
  {
   "cell_type": "code",
   "execution_count": null,
   "metadata": {
    "collapsed": true,
    "deletable": false,
    "editable": false,
    "nbgrader": {
     "grade": true,
     "grade_id": "Question 6",
     "locked": true,
     "points": "10",
     "solution": false
    }
   },
   "outputs": [],
   "source": [
    "###\n",
    "### AUTOGRADER TEST - DO NOT REMOVE\n",
    "###\n"
   ]
  },
  {
   "cell_type": "markdown",
   "metadata": {
    "deletable": false,
    "editable": false,
    "nbgrader": {
     "grade": false,
     "locked": true,
     "solution": false
    }
   },
   "source": [
    "#### Question 7\n",
    "\n",
    "**NOTE: The below asks for you to calculate the confidence interval using the *z (normal) distribution* instead of the t-distribution**"
   ]
  },
  {
   "cell_type": "code",
   "execution_count": 23,
   "metadata": {},
   "outputs": [
    {
     "name": "stdout",
     "output_type": "stream",
     "text": [
      "Sample Mean:   127.33333333333333\n",
      "Observations (n):   30\n",
      "Sample sd:   13.898041428760944\n",
      "t-multiplier:   1.959963984540054\n",
      "\n",
      "Confidence Interval:   127.33333333333333 +/- 4.9733\n",
      "122.36003333333333 132.30663333333334\n"
     ]
    }
   ],
   "source": [
    "### GRADED\n",
    "\n",
    "### Calculate the 95% confidence interval **(with a Z- (NORMAL) DISTRIBUTION)**\n",
    "### of the data stored in the \"observations\" variable below\n",
    "\n",
    "### Assign the lower bound as a number to \"lower\" and the upper bound as a number to \"upper\"\n",
    "\n",
    "### Answers will be tested to three decimal places\n",
    "\n",
    "### YOUR ANSWER BELOW\n",
    "\n",
    "observations = [124, 147, 136, 136, 100, 133, 137, 117, 121, 127, 130, 132, 143,\n",
    "       146, 130, 149, 119, 146, 107, 148, 125, 105, 116, 130, 117, 117,\n",
    "       108, 105, 139, 130]\n",
    "alpha = .95\n",
    "\n",
    "n = len(observations) # find \"n\" -- the number of observations\n",
    "x_bar = np.mean(observations) # find \"x_bar\"-- the sample mean\n",
    "sd = np.std(observations) # find the sample standard deviation\n",
    "alpha = .95\n",
    "t_mult = stats.norm.interval(.95)[1]\n",
    "\n",
    "print(\"Sample Mean:  \", x_bar)\n",
    "print(\"Observations (n):  \", n)\n",
    "print(\"Sample sd:  \", sd)\n",
    "print(\"t-multiplier:  \", t_mult)\n",
    "\n",
    "print(\"\\nConfidence Interval:  \", x_bar, \"+/-\", round(t_mult * (sd / np.sqrt(n)),4))\n",
    "\n",
    "up = 127.33333333333333+4.9733\n",
    "low = 127.33333333333333-4.9733\n",
    "print(low, up)\n",
    "\n",
    "lower = 122.36003333333333\n",
    "upper = 132.30663333333334"
   ]
  },
  {
   "cell_type": "code",
   "execution_count": null,
   "metadata": {
    "collapsed": true,
    "deletable": false,
    "editable": false,
    "nbgrader": {
     "grade": true,
     "grade_id": "Question 7",
     "locked": true,
     "points": "10",
     "solution": false
    }
   },
   "outputs": [],
   "source": [
    "###\n",
    "### AUTOGRADER TEST - DO NOT REMOVE\n",
    "###\n"
   ]
  },
  {
   "cell_type": "markdown",
   "metadata": {
    "deletable": false,
    "editable": false,
    "nbgrader": {
     "grade": false,
     "locked": true,
     "solution": false
    }
   },
   "source": [
    "### Confidence Intervals: Difference of Means\n",
    "Let's review the Central Park calculations from lectures 7-5 and 7-6:  \n",
    "\n",
    "Mean temperature between 1869 and 1968 ($\\bar{Y}$) is 35.0 with a standard deviation ($s_y$) of 3.8. 100 observations ($n_y$)\n",
    "\n",
    "Mean temperature between 1969 and 2015 ($\\bar{X}$) is 38.1 with a standard deviation ($s_x$) of 4.4. 47 observations ($n_x$)  \n",
    "\n",
    "**Difference of means:** $\\bar{X} - \\bar{Y} = 38.1 - 35.0 = 3.1$  \n",
    "**Standard Error:** $s.e. = \\sqrt{\\frac{s^2_x}{n_x}+ \\frac{s^2_y}{n_y}}$"
   ]
  },
  {
   "cell_type": "code",
   "execution_count": 24,
   "metadata": {
    "deletable": false,
    "editable": false,
    "nbgrader": {
     "grade": false,
     "locked": true,
     "solution": false
    }
   },
   "outputs": [
    {
     "data": {
      "text/plain": [
       "0.7458651980197369"
      ]
     },
     "execution_count": 24,
     "metadata": {},
     "output_type": "execute_result"
    }
   ],
   "source": [
    "se = np.sqrt(((4.4**2)/47)+((3.8**2)/100))\n",
    "se"
   ]
  },
  {
   "cell_type": "markdown",
   "metadata": {
    "deletable": false,
    "editable": false,
    "nbgrader": {
     "grade": false,
     "locked": true,
     "solution": false
    }
   },
   "source": [
    "To create a confidence interval:  \n",
    "\n",
    "$\\bar{X} - \\bar{Y} \\pm Z_{\\alpha/2} \\cdot s.e$  \n",
    "\n",
    "Calculate $Z_{\\alpha/2}$ for the $95\\%$ confidence interval:"
   ]
  },
  {
   "cell_type": "code",
   "execution_count": 25,
   "metadata": {
    "deletable": false,
    "editable": false,
    "nbgrader": {
     "grade": false,
     "locked": true,
     "solution": false
    }
   },
   "outputs": [
    {
     "data": {
      "text/plain": [
       "(-1.959963984540054, 1.959963984540054)"
      ]
     },
     "execution_count": 25,
     "metadata": {},
     "output_type": "execute_result"
    }
   ],
   "source": [
    "stats.norm.interval(.95)"
   ]
  },
  {
   "cell_type": "markdown",
   "metadata": {
    "deletable": false,
    "editable": false,
    "nbgrader": {
     "grade": false,
     "locked": true,
     "solution": false
    }
   },
   "source": [
    "Of note, when the observations are $n\\ge30$, the normal distribution may be used for calculating confidence intervals instead of the t-distribution."
   ]
  },
  {
   "cell_type": "code",
   "execution_count": 26,
   "metadata": {
    "deletable": false,
    "editable": false,
    "nbgrader": {
     "grade": false,
     "locked": true,
     "solution": false
    }
   },
   "outputs": [
    {
     "data": {
      "text/plain": [
       "(1.6381310745594801, 4.56186892544052)"
      ]
     },
     "execution_count": 26,
     "metadata": {},
     "output_type": "execute_result"
    }
   ],
   "source": [
    "# Calculate CI\n",
    "(3.1 + stats.norm.interval(.95)[0]*se, 3.1 + stats.norm.interval(.95)[1]*se)"
   ]
  },
  {
   "cell_type": "markdown",
   "metadata": {
    "deletable": false,
    "editable": false,
    "nbgrader": {
     "grade": false,
     "locked": true,
     "solution": false
    }
   },
   "source": [
    "To Calculate the p value: \n",
    "\n",
    "$1-P\\Big(-\\frac{\\bar{X} - \\bar{Y}}{s.e}<Z<\\frac{\\bar{X} - \\bar{Y}}{s.e}\\Big)$  \n",
    "$= 2\\cdot P \\Big(Z<-\\frac{3.1}{.745...}\\Big)$  \n",
    "$\\approx 2\\cdot 1-P\\Big(Z<-4.156\\Big)$\n",
    "$\\approx .0000324$  \n",
    "\n",
    "Calculations below:"
   ]
  },
  {
   "cell_type": "code",
   "execution_count": 27,
   "metadata": {
    "deletable": false,
    "editable": false,
    "nbgrader": {
     "grade": false,
     "locked": true,
     "solution": false
    }
   },
   "outputs": [
    {
     "name": "stdout",
     "output_type": "stream",
     "text": [
      "4.156247011162961\n",
      "p-value:  3.24e-05\n"
     ]
    }
   ],
   "source": [
    "# Find test statistic using standard error calculated above\n",
    "test_stat = (38.1-35.0)/ se\n",
    "print(test_stat)\n",
    "\n",
    "# Find p-value\n",
    "print(\"p-value: \", round((2*(stats.norm.cdf(-test_stat))),7))"
   ]
  },
  {
   "cell_type": "markdown",
   "metadata": {
    "deletable": false,
    "editable": false,
    "nbgrader": {
     "grade": false,
     "locked": true,
     "solution": false
    }
   },
   "source": [
    "#### Final Example:\n",
    "One additional example of finding the confidence interval of the difference of two means, and finding the p-value:  "
   ]
  },
  {
   "cell_type": "code",
   "execution_count": 28,
   "metadata": {
    "deletable": false,
    "editable": false,
    "nbgrader": {
     "grade": false,
     "locked": true,
     "solution": false
    }
   },
   "outputs": [
    {
     "name": "stdout",
     "output_type": "stream",
     "text": [
      "Means:  33.885999999999996 , 35.914\n",
      "Standard Deviations:  1.6163768125038174 , 4.977348423943549\n",
      "Number of Observations:  60 , 30\n",
      "\n",
      "\n",
      "Z-Multiplier:  1.959963984540054\n",
      "Difference of Means:  -2.028000000000006\n",
      "Standard Error:  0.9323864422962068\n",
      "Confidence Interval:  -3.8554438465740044  ,  -0.2005561534260072\n"
     ]
    }
   ],
   "source": [
    "obs1 = [32.42, 34.61, 35.09, 35.67, 32.04, 34.31, 33.03, 35.55, 34.7 ,\n",
    "       34.91, 36.02, 32.68, 35.65, 34.14, 32.65, 34.55, 32.78, 37.7 ,\n",
    "       33.91, 33.53, 31.32, 33.25, 35.07, 36.66, 36.55, 33.52, 33.32,\n",
    "       32.55, 33.69, 36.05, 30.66, 35.02, 34.05, 34.67, 37.61, 33.71,\n",
    "       35.72, 34.54, 35.05, 33.69, 30.33, 32.01, 33.16, 36.3 , 32.66,\n",
    "       31.73, 33.35, 33.16, 33.76, 33.92, 32.05, 34.18, 34.45, 31.49,\n",
    "       31.9 , 34.33, 33.2 , 31.37, 34.56, 32.61]\n",
    "\n",
    "obs2 = [36.2 , 41.98, 38.58, 33.59, 36.55, 33.5 , 30.78, 40.87, 42.25,\n",
    "       39.08, 28.09, 36.74, 44.41, 29.22, 38.55, 24.41, 28.93, 31.97,\n",
    "       36.6 , 36.  , 37.96, 33.92, 43.8 , 36.96, 41.44, 40.54, 35.88,\n",
    "       30.82, 38.7 , 29.1 ]\n",
    "\n",
    "# Calculate sample means\n",
    "mean_x = np.mean(obs1)\n",
    "mean_y = np.mean(obs2)\n",
    "\n",
    "# Calculate sample standard deviations\n",
    "sd_x = np.std(obs1)\n",
    "sd_y = np.std(obs2)\n",
    "\n",
    "# Count number of observations in each sample\n",
    "n_x = len(obs1)\n",
    "n_y = len(obs2)\n",
    "\n",
    "# Set alpha\n",
    "alpha = .95\n",
    "\n",
    "\n",
    "print(\"Means: \", mean_x, \",\", mean_y)\n",
    "print(\"Standard Deviations: \", sd_x, \",\", sd_y)\n",
    "print(\"Number of Observations: \", n_x, \",\", n_y)\n",
    "\n",
    "\n",
    "# Calculate Observed Difference of means\n",
    "diff = mean_x - mean_y\n",
    "\n",
    "# Calculate Standard Error\n",
    "se = np.sqrt( (sd_x**2/n_x) + (sd_y**2/n_y))\n",
    "\n",
    "# Find z-multiplier\n",
    "z_mult = stats.norm.interval(alpha)[1]\n",
    "\n",
    "print(\"\\n\\nZ-Multiplier: \", z_mult)\n",
    "print(\"Difference of Means: \", diff)\n",
    "print(\"Standard Error: \", se)\n",
    "\n",
    "# Calculate confidence interval\n",
    "lower = diff - z_mult * se\n",
    "upper = diff + z_mult * se\n",
    "\n",
    "print(\"Confidence Interval: \", lower, \" , \", upper)"
   ]
  },
  {
   "cell_type": "markdown",
   "metadata": {
    "deletable": false,
    "editable": false,
    "nbgrader": {
     "grade": false,
     "locked": true,
     "solution": false
    }
   },
   "source": [
    "With our 95% confidence interval spanning from -3.86 to -0.2 we can say with 95% confidence that the difference in the means of the two sets of observations does not include 0.  \n",
    "\n",
    "Thus we know that the p-value will be less than .05.  \n",
    "\n",
    "Below the exact p-value is calculated"
   ]
  },
  {
   "cell_type": "code",
   "execution_count": 29,
   "metadata": {
    "deletable": false,
    "editable": false,
    "nbgrader": {
     "grade": false,
     "locked": true,
     "solution": false
    }
   },
   "outputs": [
    {
     "name": "stdout",
     "output_type": "stream",
     "text": [
      "-2.175063801877695\n",
      "p-value:  0.0296\n"
     ]
    }
   ],
   "source": [
    "# Calculate Test Statistic\n",
    "test_stat = diff/ se\n",
    "print(test_stat)\n",
    "\n",
    "# Find p-value\n",
    "print(\"p-value: \", round((2*(stats.norm.cdf(test_stat))),4))"
   ]
  },
  {
   "cell_type": "markdown",
   "metadata": {
    "deletable": false,
    "editable": false,
    "nbgrader": {
     "grade": false,
     "locked": true,
     "solution": false
    }
   },
   "source": [
    "Notice, becuase the difference was negative, the test statistic was also negative, and thus did not need to be made negative when passed to \"`stats.norm.cdf()`\"  \n",
    "\n",
    "See below what would happen if it were made negative -- a nonsensical p-value"
   ]
  },
  {
   "cell_type": "code",
   "execution_count": 30,
   "metadata": {
    "deletable": false,
    "editable": false,
    "nbgrader": {
     "grade": false,
     "locked": true,
     "solution": false
    }
   },
   "outputs": [
    {
     "name": "stdout",
     "output_type": "stream",
     "text": [
      "WRONG p-value:  1.9704\n"
     ]
    }
   ],
   "source": [
    "print(\"WRONG p-value: \", round((2*(stats.norm.cdf(-test_stat))),4))"
   ]
  },
  {
   "cell_type": "markdown",
   "metadata": {
    "deletable": false,
    "editable": false,
    "nbgrader": {
     "grade": false,
     "locked": true,
     "solution": false
    }
   },
   "source": [
    "#### Question 8"
   ]
  },
  {
   "cell_type": "code",
   "execution_count": 31,
   "metadata": {},
   "outputs": [
    {
     "name": "stdout",
     "output_type": "stream",
     "text": [
      "Means:  24.767500000000002 , 25.42\n",
      "Standard Deviations:  2.9962791508803046 , 4.2931806391066285\n",
      "Number of Observations:  40 , 35\n",
      "\n",
      "\n",
      "Z-Multiplier:  1.959963984540054\n",
      "Difference of Means:  -0.6524999999999999\n",
      "Standard Error:  0.8666335138462098\n",
      "Confidence Interval:  -2.351070474933965  ,  1.0460704749339655\n"
     ]
    }
   ],
   "source": [
    "### GRADED\n",
    "### Calculate the 95% confidence interval (with a Z- (NORMAL) DISTRIBUTION)\n",
    "### of the difference of the means of the collections stored in obs1 and obs2\n",
    "\n",
    "### NOTE: Specifically find the CI for the mean of obs1 - mean of obs2\n",
    "\n",
    "### Assign the lower bound as a number to \"lower\" and the upper bound as a number to \"upper\"\n",
    "\n",
    "### Answers will be tested to three decimal places\n",
    "### YOUR ANSWER BELOW\n",
    "\n",
    "obs1 = [22.9 , 26.08, 25.04, 22.09, 24.28, 31.3 , 25.47, 24.17, 23.42,\n",
    "       25.64, 23.96, 23.94, 25.35, 20.92, 27.74, 25.93, 26.9 , 27.87,\n",
    "       22.43, 23.73, 29.25, 25.66, 23.6 , 26.77, 17.38, 26.26, 17.67,\n",
    "       24.04, 19.42, 27.41, 30.02, 25.22, 26.47, 24.47, 22.85, 20.07,\n",
    "       29.46, 23.61, 26.54, 25.37]\n",
    "\n",
    "obs2 = [26.37, 32.62, 22.13, 22.64, 32.33, 25.62, 18.69, 26.86, 17.87,\n",
    "       18.16, 26.37, 25.77, 22.57, 27.41, 17.2 , 22.61, 26.97, 28.78,\n",
    "       24.02, 25.41, 27.88, 28.99, 30.06, 30.23, 24.19, 17.06, 24.38,\n",
    "       24.13, 25.87, 31.58, 21.19, 32.07, 30.07, 24.23, 27.37]\n",
    "\n",
    "# Calculate sample means\n",
    "mean_x = np.mean(obs1)\n",
    "mean_y = np.mean(obs2)\n",
    "\n",
    "# Calculate sample standard deviations\n",
    "sd_x = np.std(obs1)\n",
    "sd_y = np.std(obs2)\n",
    "\n",
    "# Count number of observations in each sample\n",
    "n_x = len(obs1)\n",
    "n_y = len(obs2)\n",
    "\n",
    "# Set alpha\n",
    "alpha = .95\n",
    "\n",
    "\n",
    "print(\"Means: \", mean_x, \",\", mean_y)\n",
    "print(\"Standard Deviations: \", sd_x, \",\", sd_y)\n",
    "print(\"Number of Observations: \", n_x, \",\", n_y)\n",
    "\n",
    "\n",
    "# Calculate Observed Difference of means\n",
    "diff = mean_x - mean_y\n",
    "\n",
    "# Calculate Standard Error\n",
    "se = np.sqrt( (sd_x**2/n_x) + (sd_y**2/n_y))\n",
    "\n",
    "# Find z-multiplier\n",
    "z_mult = stats.norm.interval(alpha)[1]\n",
    "\n",
    "print(\"\\n\\nZ-Multiplier: \", z_mult)\n",
    "print(\"Difference of Means: \", diff)\n",
    "print(\"Standard Error: \", se)\n",
    "\n",
    "# Calculate confidence interval\n",
    "lower = diff - z_mult * se\n",
    "upper = diff + z_mult * se\n",
    "\n",
    "print(\"Confidence Interval: \", lower, \" , \", upper)\n",
    "\n",
    "lower = -2.351070474933965\n",
    "\n",
    "upper = 1.0460704749339655"
   ]
  },
  {
   "cell_type": "code",
   "execution_count": null,
   "metadata": {
    "collapsed": true,
    "deletable": false,
    "editable": false,
    "nbgrader": {
     "grade": true,
     "grade_id": "Question 8",
     "locked": true,
     "points": "10",
     "solution": false
    }
   },
   "outputs": [],
   "source": [
    "###\n",
    "### AUTOGRADER TEST - DO NOT REMOVE\n",
    "###\n"
   ]
  },
  {
   "cell_type": "markdown",
   "metadata": {
    "deletable": false,
    "editable": false,
    "nbgrader": {
     "grade": false,
     "locked": true,
     "solution": false
    }
   },
   "source": [
    "#### Question 9"
   ]
  },
  {
   "cell_type": "code",
   "execution_count": 32,
   "metadata": {},
   "outputs": [
    {
     "name": "stdout",
     "output_type": "stream",
     "text": [
      "-0.7529134167730681\n",
      "p-value:  0.4515\n"
     ]
    }
   ],
   "source": [
    "### GRADED\n",
    "\n",
    "### Calculate the p-value for the difference of the means of the two samples.\n",
    "\n",
    "### Answers will be tested to 3 decimal place\n",
    "\n",
    "### Assign numeric answer to \"p_val\"\n",
    "### YOUR ANSWER BELOW\n",
    "\n",
    "obs1 = [22.9 , 26.08, 25.04, 22.09, 24.28, 31.3 , 25.47, 24.17, 23.42,\n",
    "       25.64, 23.96, 23.94, 25.35, 20.92, 27.74, 25.93, 26.9 , 27.87,\n",
    "       22.43, 23.73, 29.25, 25.66, 23.6 , 26.77, 17.38, 26.26, 17.67,\n",
    "       24.04, 19.42, 27.41, 30.02, 25.22, 26.47, 24.47, 22.85, 20.07,\n",
    "       29.46, 23.61, 26.54, 25.37]\n",
    "\n",
    "obs2 = [26.37, 32.62, 22.13, 22.64, 32.33, 25.62, 18.69, 26.86, 17.87,\n",
    "       18.16, 26.37, 25.77, 22.57, 27.41, 17.2 , 22.61, 26.97, 28.78,\n",
    "       24.02, 25.41, 27.88, 28.99, 30.06, 30.23, 24.19, 17.06, 24.38,\n",
    "       24.13, 25.87, 31.58, 21.19, 32.07, 30.07, 24.23, 27.37]\n",
    "\n",
    "### GRADED\n",
    "### Calculate the 95% confidence interval (with a Z- (NORMAL) DISTRIBUTION)\n",
    "### of the difference of the means of the collections stored in obs1 and obs2\n",
    "\n",
    "### NOTE: Specifically find the CI for the mean of obs1 - mean of obs2\n",
    "\n",
    "### Assign the lower bound as a number to \"lower\" and the upper bound as a number to \"upper\"\n",
    "\n",
    "### Answers will be tested to three decimal places\n",
    "### YOUR ANSWER BELOW\n",
    "\n",
    "obs1 = [22.9 , 26.08, 25.04, 22.09, 24.28, 31.3 , 25.47, 24.17, 23.42,\n",
    "       25.64, 23.96, 23.94, 25.35, 20.92, 27.74, 25.93, 26.9 , 27.87,\n",
    "       22.43, 23.73, 29.25, 25.66, 23.6 , 26.77, 17.38, 26.26, 17.67,\n",
    "       24.04, 19.42, 27.41, 30.02, 25.22, 26.47, 24.47, 22.85, 20.07,\n",
    "       29.46, 23.61, 26.54, 25.37]\n",
    "\n",
    "obs2 = [26.37, 32.62, 22.13, 22.64, 32.33, 25.62, 18.69, 26.86, 17.87,\n",
    "       18.16, 26.37, 25.77, 22.57, 27.41, 17.2 , 22.61, 26.97, 28.78,\n",
    "       24.02, 25.41, 27.88, 28.99, 30.06, 30.23, 24.19, 17.06, 24.38,\n",
    "       24.13, 25.87, 31.58, 21.19, 32.07, 30.07, 24.23, 27.37]\n",
    "\n",
    "\n",
    "# Calculate Test Statistic\n",
    "test_stat = diff/ se\n",
    "print(test_stat)\n",
    "\n",
    "# Find p-value\n",
    "print(\"p-value: \", round((2*(stats.norm.cdf(test_stat))),4))\n",
    "\n",
    "p_val = 0.4515"
   ]
  },
  {
   "cell_type": "code",
   "execution_count": null,
   "metadata": {
    "collapsed": true,
    "deletable": false,
    "editable": false,
    "nbgrader": {
     "grade": true,
     "grade_id": "Question 9",
     "locked": true,
     "points": "10",
     "solution": false
    }
   },
   "outputs": [],
   "source": [
    "###\n",
    "### AUTOGRADER TEST - DO NOT REMOVE\n",
    "###\n"
   ]
  }
 ],
 "metadata": {
  "kernelspec": {
   "display_name": "Python 3",
   "language": "python",
   "name": "python3"
  },
  "language_info": {
   "codemirror_mode": {
    "name": "ipython",
    "version": 3
   },
   "file_extension": ".py",
   "mimetype": "text/x-python",
   "name": "python",
   "nbconvert_exporter": "python",
   "pygments_lexer": "ipython3",
   "version": "3.7.6"
  }
 },
 "nbformat": 4,
 "nbformat_minor": 2
}
