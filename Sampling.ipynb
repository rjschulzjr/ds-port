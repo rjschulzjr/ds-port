{
 "cells": [
  {
   "cell_type": "markdown",
   "metadata": {
    "deletable": false,
    "editable": false,
    "nbgrader": {
     "grade": false,
     "locked": true,
     "solution": false
    }
   },
   "source": [
    "# Sampling\n",
    "#### The Central Limit Theorem\n",
    "\n",
    "--------------------------------------\n",
    "\n",
    "\n",
    "### Assignment Contents\n",
    "- [Data](#Data)\n",
    "- [A Few Useful Functions](#A-Few-Useful-Functions)\n",
    "- [CLT Demonstrations](#CLT-Demonstrations)\n",
    "    - [The 'stats' Package](#The-stats-Package)  \n",
    "    \n",
    "    \n",
    "- [Calculating Necessary Sample Size](#Calculating-Necessary-Sample-Size)\n",
    "- [Questions](#Questions)\n",
    "\n",
    "#### Expected Time: 2 HRS\n",
    "\n",
    "### Overview\n",
    "\n",
    "This assignment focuses on the use of the central limit theorm (CLT) as it relates to sampling.  \n",
    "\n",
    "The CLT is useful because it provides a method for determining the sample size needed to estimate the mean of a distribution. To start, this assignment will offer a fairly extensive review the material from lectures, making note of, and giving demonstrations of how to perform certain tasks in Python.   \n",
    "\n",
    "Eventually you will be asked to perform the same kinds of calculations shown in lecture, and demonstrated in Python.\n",
    "\n",
    "\n",
    "### Activities in this Assignment\n",
    "\n",
    "- Calculate necessary sample size for an acceptable level of error\n",
    "    - Estimate Standard Deviation\n",
    "    - Find z-score associated with n% interval\n",
    "- Calculate expected error\n",
    "\n",
    "### Data\n",
    "\n",
    "For this assignment a toy \"office supply\" data set is used. In particular, \"sales\" and \"transaction\" data for clients of a fictional \"office supply\" company are used. The data is read into Python from a \".csv\" file using the \"Pandas\" package. At this point it is not necessary for you to understand everything occuring in the import cells. However, the code is provided if interested.  \n",
    "\n",
    "#### Imports"
   ]
  },
  {
   "cell_type": "code",
   "execution_count": 2,
   "metadata": {
    "collapsed": true,
    "deletable": false,
    "editable": false,
    "nbgrader": {
     "grade": false,
     "locked": true,
     "solution": false
    }
   },
   "outputs": [],
   "source": [
    "import scipy.stats as stats # Used for calculating z-values\n",
    "import numpy as np # Used for calculating statistics on data\n",
    "import pandas as pd # Used for loading-in and viewing data\n",
    "import matplotlib.pyplot as plt # Used for creating graphics\n",
    "\n",
    "# Jupyter set to automatically display mpl figures\n",
    "%matplotlib inline "
   ]
  },
  {
   "cell_type": "markdown",
   "metadata": {
    "deletable": false,
    "editable": false,
    "nbgrader": {
     "grade": false,
     "locked": true,
     "solution": false
    }
   },
   "source": [
    "The cell below will load our dataset in, and perform some rudimentary cleaning.  \n",
    "\n",
    "Do not worry if you do not understand all of the code below. Comments are provided if you are interested in following along."
   ]
  },
  {
   "cell_type": "code",
   "execution_count": 3,
   "metadata": {
    "deletable": false,
    "editable": false,
    "nbgrader": {
     "grade": false,
     "locked": true,
     "solution": false
    },
    "scrolled": false
   },
   "outputs": [
    {
     "name": "stdout",
     "output_type": "stream",
     "text": [
      "Old Column Names:\n",
      " Index(['Customer Number', 'Service Level', ' Campaign Period Sales ',\n",
      "       ' Date of Last Transaction ', 'Date of First Purchase',\n",
      "       'Number of Transactions', 'Do Not Direct Mail Solicit', 'Do Not Email',\n",
      "       'Do Not Telemarket', 'Repurchase Method', 'Last Transaction Channel',\n",
      "       'Email Available', 'Desk', 'Executive Chair', 'Standard Chair',\n",
      "       'Monitor', 'Printer', 'Computer', 'Insurance', 'Toner',\n",
      "       'Office Supplies', 'Number of Employees', 'Language'],\n",
      "      dtype='object')\n",
      "\n",
      "Stripping spaces from ends of column names; replacing internal spaces with '_'\n",
      "\n",
      "\n",
      "New Column Names:\n",
      " Index(['customer_number', 'service_level', 'campaign_period_sales',\n",
      "       'date_of_last_transaction', 'date_of_first_purchase',\n",
      "       'number_of_transactions', 'do_not_direct_mail_solicit', 'do_not_email',\n",
      "       'do_not_telemarket', 'repurchase_method', 'last_transaction_channel',\n",
      "       'email_available', 'desk', 'executive_chair', 'standard_chair',\n",
      "       'monitor', 'printer', 'computer', 'insurance', 'toner',\n",
      "       'office_supplies', 'number_of_employees', 'language'],\n",
      "      dtype='object')\n",
      "\n",
      "\n",
      "Raw Data, Note how 'sales' is not numeric\n",
      "  campaign_period_sales  number_of_transactions\n",
      "0             $ 107.16                       20\n",
      "1             $ 110.66                        2\n",
      "2           $ 4,697.62                       12\n",
      "3             $ 103.08                        9\n",
      "4            $ (566.50)                       1\n",
      "\n",
      "\n",
      "Cleaned data, note numeric values\n",
      "\n",
      "     sales  transactions\n",
      "0   107.16            20\n",
      "1   110.66             2\n",
      "2  4697.62            12\n",
      "3   103.08             9\n",
      "4  -566.50             1\n"
     ]
    }
   ],
   "source": [
    "# Define file_path containing data with string\n",
    "data_path = \"../resource/asnlib/publicdata/office_supply.csv\"\n",
    "\n",
    "# Read in data with Pandas\n",
    "office = pd.read_csv(data_path)\n",
    "\n",
    "# Column names may be accessed (and changed) using the `.columns` attribute as below\n",
    "print(\"Old Column Names:\\n\", office.columns)  \n",
    "\n",
    "# Stripping out spaces from ends of names, and replacing internal spaces with \"_\"\n",
    "print(\"\\nStripping spaces from ends of column names; replacing internal spaces with '_'\\n\")\n",
    "office.columns = [col.strip().replace(' ', '_').lower() for col in office.columns]\n",
    "\n",
    "# Print edited column names\n",
    "print(\"\\nNew Column Names:\\n\", office.columns)\n",
    "\n",
    "# Subsetting Datad\n",
    "# Pulling out only transactions and sales amount data\n",
    "office = office[['campaign_period_sales','number_of_transactions']]\n",
    "\n",
    "# Print unedited subsetted data for reference:\n",
    "print(\"\\n\\nRaw Data, Note how 'sales' is not numeric\")\n",
    "print(office.head())\n",
    "\n",
    "# Make Column indicating whether or not sales are negative, denoted by parentheses\n",
    "office['neg'] = office.campaign_period_sales.str.contains(\"(\", regex= False).values\n",
    "office['neg'] = office['neg'].map({False:1, True:-1})\n",
    "\n",
    "\n",
    "# Use regular expressions to pull out sales info\n",
    "office['campaign_period_sales'] = office['campaign_period_sales'].str.extract(r'([\\d,]+.\\d+)', expand = False).str.replace(\",\", \"\").astype(float)\n",
    "office['campaign_period_sales'] = office['campaign_period_sales']* office['neg']\n",
    "\n",
    "# Drop negative sales indicator column\n",
    "office.drop(['neg'], axis = 'columns', inplace = True)\n",
    "\n",
    "# Shorten column names\n",
    "office.rename(columns = {'campaign_period_sales':\"sales\",\"number_of_transactions\":\"transactions\"}, inplace = True)\n",
    "\n",
    "## Print first 5 rows\n",
    "print(\"\\n\\nCleaned data, note numeric values\\n\")\n",
    "print(office.head())"
   ]
  },
  {
   "cell_type": "markdown",
   "metadata": {
    "deletable": false,
    "editable": false,
    "nbgrader": {
     "grade": false,
     "locked": true,
     "solution": false
    }
   },
   "source": [
    "#### Looking at the Data\n",
    "In the above \"toy\" dataset, two pieces of information are exposed, the amount of sales for a particular customer over a fixed period of time, and the number of transactions with that customer over their patronage.  \n",
    "\n",
    "Thus, for example, over the last quarter, customer \"0\" purchased $107.16 of material. Since customer \"0\" became a customer, they have purchased items 20 times.  \n",
    "\n",
    "For customer \"4\", notice how the \"sales\" figure is negative. From a businiss perspective that negative value would be of great interest. For the purposes of this assignments, simply accept that sales figures may be negative, without worrying too much about the \"why\"."
   ]
  },
  {
   "cell_type": "markdown",
   "metadata": {
    "deletable": false,
    "editable": false,
    "nbgrader": {
     "grade": false,
     "locked": true,
     "solution": false
    }
   },
   "source": [
    "### A Few Useful Functions\n",
    "\n",
    "With data in hand, it is time to look at a few functions which will be critical to your succes in understanding and completeing this assignment. All of the functions come from the \"`numpy`\" package. \"`Numpy`\" will be more completely introduced in week 8.  \n",
    "\n",
    "The functions are:  \n",
    "\n",
    "- `np.mean` - For calculating a mean\n",
    "- `np.std` - For calculating standard deviation\n",
    "- `np.var` - For calculating variance\n",
    "- `np.ptp` - For calculating range (ptp stands for \"point to point\")\n",
    "- `np.sqrt` - For taking the square root of a number (instead of x \\*\\* .5)\n",
    "- `np.min` - For finding the minimum value of a collection\n",
    "- `np.max` - For finding the maximum value of a collection \n",
    "\n",
    "\n",
    "Of note, these functions work with most any type of collection: list, tuple, array, etc; through not with dictionaries.  \n",
    "\n",
    "In the below examples, the \"sales\" and \"transactions\" data are accessed via \"`office['sales']`\" and \"`office['transactions']`\" respectively. Accessing the data this way yeilds a \"`Pandas Series`\"; a data type that will be covered more completely in week 9. For the purposes here, the `Series` may be thought of as a special type of list."
   ]
  },
  {
   "cell_type": "code",
   "execution_count": 4,
   "metadata": {
    "deletable": false,
    "editable": false,
    "nbgrader": {
     "grade": false,
     "locked": true,
     "solution": false
    },
    "scrolled": true
   },
   "outputs": [
    {
     "name": "stdout",
     "output_type": "stream",
     "text": [
      "np.mean of 'office': \n",
      "sales           999.040725\n",
      "transactions     13.591075\n",
      "dtype: float64\n",
      "\n",
      "\n",
      "np.min of 'office['sales']':  -919.83\n",
      "\n",
      "np.max of 'office['transactions']':  66\n",
      "\n",
      "np.var of test_list:  4.446280991735538\n",
      "\n",
      "np.ptp of test_tuple:  7\n",
      "\n",
      "np.sqrt of 72:  8.48528137423857\n"
     ]
    }
   ],
   "source": [
    "# Create some example data\n",
    "test_list = [1,5,6,7,6,2,5,7,8,3,6]\n",
    "test_tuple = tuple(test_list)\n",
    "\n",
    "# Use a variety of the `numpy` functions. \n",
    "print(\"np.mean of 'office': \\n\", np.mean(office),\"\\n\" ,sep = \"\")\n",
    "print(\"\\nnp.min of 'office['sales']': \", np.min(office['sales']))\n",
    "print(\"\\nnp.max of 'office['transactions']': \", np.max(office['transactions']))\n",
    "print(\"\\nnp.var of test_list: \", np.var(test_list))\n",
    "print(\"\\nnp.ptp of test_tuple: \", np.ptp(test_tuple))\n",
    "print(\"\\nnp.sqrt of 72: \", np.sqrt(72))"
   ]
  },
  {
   "cell_type": "markdown",
   "metadata": {
    "deletable": false,
    "editable": false,
    "nbgrader": {
     "grade": false,
     "locked": true,
     "solution": false
    }
   },
   "source": [
    "### CLT Demonstrations\n",
    "The Central Limit Theorm States that the MEAN of a random sample of \"n\" draws from any distribution forms a distribution of $N(\\mu, \\frac{\\sigma^2}{n})$.  \n",
    "\n",
    "Thus the resulting distribution of sample means:\n",
    "\n",
    "- Normally distributed  \n",
    "- With mean $\\mu$, where $\\mu$ is the population mean of the original distribution\n",
    "- With variance $\\frac{\\sigma^2}{n}$ Where $\\sigma^2$ is the population variance of the original distribution and \"n\", once is the number of observations in the sample.  \n",
    "\n",
    "Finally, the Standard Deviation of the sample mean ($stdev(\\bar{X})$) is equal to $\\frac{\\sigma}{n}$  \n",
    "\n",
    "Let's demonstrate this with the \"office\" dataset. Two equivalent, but differently coded strategies are used below to calculate 1,000 means from samples of 100 items."
   ]
  },
  {
   "cell_type": "code",
   "execution_count": 5,
   "metadata": {
    "nbgrader": {
     "grade": false,
     "locked": false,
     "solution": false
    }
   },
   "outputs": [
    {
     "name": "stdout",
     "output_type": "stream",
     "text": [
      "CPU times: user 996 ms, sys: 40 ms, total: 1.04 s\n",
      "Wall time: 1.04 s\n"
     ]
    }
   ],
   "source": [
    "%%time\n",
    "\n",
    "# Take 1000 samples of 100 observations from the \"sales\" figures\n",
    "\n",
    "# List Comprehension Method:\n",
    "\n",
    "samp_means = [\n",
    "    np.mean( # Take the mean of:\n",
    "        \n",
    "        # 100 random samples from \"sales\" without replacement\n",
    "        np.random.choice( office['sales'], size = 100, replace = False)\n",
    "    )\n",
    "    \n",
    "    # Repeat 1000 times\n",
    "    for i in range(1000)\n",
    "]"
   ]
  },
  {
   "cell_type": "code",
   "execution_count": 6,
   "metadata": {
    "nbgrader": {
     "grade": false,
     "locked": false,
     "solution": false
    }
   },
   "outputs": [
    {
     "name": "stdout",
     "output_type": "stream",
     "text": [
      "CPU times: user 988 ms, sys: 52 ms, total: 1.04 s\n",
      "Wall time: 1.04 s\n"
     ]
    }
   ],
   "source": [
    "%%time\n",
    "# Take 1000 samples of 100 observations from the \"sales\" figures\n",
    "\n",
    "# \"Verbose\" method:\n",
    "\n",
    "# Create list to store means\n",
    "samp_means2 = []\n",
    "\n",
    "# Perform the following 1000 times\n",
    "for i in range(1000):\n",
    "    \n",
    "    # Draw 100 random samples from \"sales\" without replacement\n",
    "    samp = np.random.choice(office['sales'], size = 100, replace = False)\n",
    "    \n",
    "    # Add mean to list\n",
    "    samp_means2.append(np.mean(samp))"
   ]
  },
  {
   "cell_type": "markdown",
   "metadata": {
    "deletable": false,
    "editable": false,
    "nbgrader": {
     "grade": false,
     "locked": true,
     "solution": false
    }
   },
   "source": [
    "Before looking at the distribution of the sample means, consider the distribution of the actual value of \"sales\" below"
   ]
  },
  {
   "cell_type": "code",
   "execution_count": 7,
   "metadata": {
    "deletable": false,
    "editable": false,
    "nbgrader": {
     "grade": false,
     "locked": true,
     "solution": false
    }
   },
   "outputs": [
    {
     "data": {
      "image/png": "[encoded data removed]",
      "text/plain": [
       "<Figure size 432x288 with 1 Axes>"
      ]
     },
     "metadata": {},
     "output_type": "display_data"
    }
   ],
   "source": [
    "plt. hist(office['sales'], bins = 40)\n",
    "plt.ylim(*plt.ylim())\n",
    "plt.vlines(np.mean(office['sales']), *plt.ylim(), label = \"True Mean = \" + str(round(np.mean(office['sales']),2)))\n",
    "plt.legend();"
   ]
  },
  {
   "cell_type": "markdown",
   "metadata": {
    "deletable": false,
    "editable": false,
    "nbgrader": {
     "grade": false,
     "locked": true,
     "solution": false
    }
   },
   "source": [
    "The distribution above is skewed. However, see below of how well the sample means fall around the population mean."
   ]
  },
  {
   "cell_type": "code",
   "execution_count": 8,
   "metadata": {
    "deletable": false,
    "editable": false,
    "nbgrader": {
     "grade": false,
     "locked": true,
     "solution": false
    },
    "scrolled": true
   },
   "outputs": [
    {
     "data": {
      "image/png": "[encoded data removed]",
      "text/plain": [
       "<Figure size 432x288 with 1 Axes>"
      ]
     },
     "metadata": {},
     "output_type": "display_data"
    }
   ],
   "source": [
    "plt.hist(samp_means, bins = 40)\n",
    "plt.ylim(*plt.ylim())\n",
    "plt.vlines(np.mean(office['sales']), *plt.ylim(), label = \"True Mean = \" + str(round(np.mean(office['sales']),2)))\n",
    "plt.legend();"
   ]
  },
  {
   "cell_type": "markdown",
   "metadata": {
    "deletable": false,
    "editable": false,
    "nbgrader": {
     "grade": false,
     "locked": true,
     "solution": false
    }
   },
   "source": [
    "While, the sample means look approximately normally distributed, with a mean at the population mean. Let's change \"n\" to gain more of a sense of how this distribution changes.  \n",
    "\n",
    "The below code will take samples of 10, 20, 30, 40, 50, 75, 100, 250, and 500 observations from sales, and calculate their mean 1000 times. Finally, ploting the distributions.  \n",
    "\n",
    "Note, the CLT requires $n\\ge30$"
   ]
  },
  {
   "cell_type": "code",
   "execution_count": 9,
   "metadata": {
    "deletable": false,
    "editable": false,
    "nbgrader": {
     "grade": false,
     "locked": true,
     "solution": false
    },
    "scrolled": false
   },
   "outputs": [
    {
     "name": "stdout",
     "output_type": "stream",
     "text": [
      "CPU times: user 9.46 s, sys: 624 ms, total: 10.1 s\n",
      "Wall time: 10.1 s\n"
     ]
    },
    {
     "data": {
      "image/png": "[encoded data removed]",
      "text/plain": [
       "<Figure size 720x720 with 9 Axes>"
      ]
     },
     "metadata": {},
     "output_type": "display_data"
    }
   ],
   "source": [
    "%%time\n",
    "# Create Figure\n",
    "fig, *axs = plt.subplots(3,3, sharex= False, sharey=True, figsize = (10,10))\n",
    "\n",
    "# Vary n, plot in different locations\n",
    "for i, ax in zip([10,20,30,40,50,75,100,250,500], axs[0].flatten()):\n",
    "    # Find Sample means\n",
    "    s_means = [\n",
    "        np.mean( np.random.choice(office['sales'], size = i, replace = False))\n",
    "        for j in range(1000)\n",
    "    ]\n",
    "    \n",
    "    # Plot histogram with consistent \"bins\"\n",
    "    ax.hist(s_means, bins = range(150,2001, 25))\n",
    "    ax.set_xlim(150,2000)\n",
    "\n",
    "    tit = \"n: \" + str(i)\n",
    "    ax.set_title(tit)"
   ]
  },
  {
   "cell_type": "markdown",
   "metadata": {
    "deletable": false,
    "editable": false,
    "nbgrader": {
     "grade": false,
     "locked": true,
     "solution": false
    }
   },
   "source": [
    "While all of the sample means are appoximately centered at the population mean of \\~1000, the distribution significantly tightens as \"n\" increases.  \n",
    "\n",
    "While the above provides a visual demonstration of the CLT, using Python, a more focused investigation is possible.  \n",
    "\n",
    "Returning to the original 1,000 means calculated from samples of 100 observations, the below cell calculates the population mean and population standard deviation, along with the mean of the sample means, and the standard deviation of the sample means.  \n",
    "\n",
    "From the CLT, we expect that the population mean will equal the mean of the sample means. We also expect that the standard deviation of the sample means will be equal to the population standard deviation divided by the square root of n. "
   ]
  },
  {
   "cell_type": "code",
   "execution_count": 10,
   "metadata": {
    "deletable": false,
    "editable": false,
    "nbgrader": {
     "grade": false,
     "locked": true,
     "solution": false
    }
   },
   "outputs": [
    {
     "name": "stdout",
     "output_type": "stream",
     "text": [
      "mu:  999.0407246751569\n",
      "sigma:  1185.9985229774793\n",
      "Mean of sample Means:  991.7014092999999\n",
      "Standard Deviation of Sample Means:  119.10762283818951\n",
      "Sigma / sqrt(n); Should be about the same as Standard Deviation of Sample Means:  118.59985229774793\n",
      "\n",
      "Percent difference in mean of sample means and poulation mean:  0.735 %\n",
      "\n",
      "Percent difference in population standard deviation / sqrt(n) to standard deviation of sample means:  -0.428 %\n"
     ]
    }
   ],
   "source": [
    "pop_mean = np.mean(office['sales']) # This is mu\n",
    "pop_standard_dev = np.std(office['sales']) # This is sigma\n",
    "\n",
    "samp_mean = np.mean(samp_means) # CLT tells us this should be ~mu\n",
    "samp_standard_dev = np.std(samp_means) # CLT Says this should be sigma / n\n",
    "\n",
    "sig_div_n = pop_standard_dev / np.sqrt(100)\n",
    "\n",
    "print(\"mu: \", pop_mean)\n",
    "print(\"sigma: \", pop_standard_dev)\n",
    "print(\"Mean of sample Means: \", samp_mean)\n",
    "print(\"Standard Deviation of Sample Means: \" , samp_standard_dev)\n",
    "\n",
    "print(\"Sigma / sqrt(n); Should be about the same as Standard Deviation of Sample Means: \", sig_div_n)\n",
    "\n",
    "print(\"\\nPercent difference in mean of sample means and poulation mean: \", round((1-samp_mean /pop_mean)*100,3),\"%\"  )\n",
    "print(\"\\nPercent difference in population standard deviation / sqrt(n) to standard deviation of sample means: \",\n",
    "      round((1-samp_standard_dev /sig_div_n)*100,3),\"%\"  )"
   ]
  },
  {
   "cell_type": "markdown",
   "metadata": {
    "deletable": false,
    "editable": false,
    "nbgrader": {
     "grade": false,
     "locked": true,
     "solution": false
    }
   },
   "source": [
    "The promises of the CLT appear to have held; the equivalences are not perfect, but they're very close.  \n",
    "\n",
    "### Calculating Necessary Sample Size\n",
    "\n",
    "The eventual focus of the lectures, and the activities in this assignment concern choosing an \"n\" - a sample size for estimating a population mean.  \n",
    "\n",
    "Below estimating the mean of \"sales\" is demonstrated. The questions will ask you about estimating the mean of \"transactions\".  \n",
    "\n",
    "#### Estimating the \"Sales\" Mean\n",
    "\n",
    "Imagine that you have decided that the sample mean of the sales should not have an error greater than $\\pm\\$50$. Further, you want 92.5% confidence that error will not be exceeded.  \n",
    "\n",
    "To calculate the necessary sample size, the following steps will be taken:  \n",
    "\n",
    "1. Estimate Standard Deviation from Estimated Range  \n",
    "2. Find the \"z\" multiplier  \n",
    "3. Solve for \"n\" using Standard Deviation and \"z\" multiplier  \n",
    "\n",
    "#### Estimating the Standard Deviation\n",
    "\n",
    "First, we find an estimate for the population standard deviation from the expected range of observed sales figures.  \n",
    "\n",
    "Remember, the estimate for the standard deviation is **the estimated range divided by six.**  \n",
    "\n",
    "Two notes on this estimation: in a normal distribution, $99.73\\%$ of the data will be contained within $\\pm 3$ standard deviations. Furthermore, [Chbyshev's Inequality](https://en.wikipedia.org/wiki/Chebyshev's_inequality) also tells us that in *any* distribution, at least $89\\%$ of values must lie within three standard deviations of the mean.    \n",
    "\n",
    "From our previous data, we find that the range of sales spans from:"
   ]
  },
  {
   "cell_type": "code",
   "execution_count": 11,
   "metadata": {
    "deletable": false,
    "editable": false,
    "nbgrader": {
     "grade": false,
     "locked": true,
     "solution": false
    },
    "scrolled": true
   },
   "outputs": [
    {
     "name": "stdout",
     "output_type": "stream",
     "text": [
      "Min Sales:  -919.83\n",
      "Max Sales:  11069.76\n",
      "Range of sales:  11989.59\n",
      "Standard Deviation of Sales:  1185.9985229774793\n"
     ]
    }
   ],
   "source": [
    "print(\"Min Sales: \", np.min(office['sales']))\n",
    "print(\"Max Sales: \", np.max(office['sales']))\n",
    "\n",
    "print(\"Range of sales: \", np.ptp(office['sales']))\n",
    "print(\"Standard Deviation of Sales: \", np.std(office['sales']))"
   ]
  },
  {
   "cell_type": "markdown",
   "metadata": {
    "deletable": false,
    "editable": false,
    "nbgrader": {
     "grade": false,
     "locked": true,
     "solution": false
    }
   },
   "source": [
    "To be conservative, estimate the range as 25% larger, increasing from ~12,000 to 15,000.  \n",
    "\n",
    "Thus our estimate for the standard deviation will be $\\frac{15,000}6 = 2,500$  \n",
    "\n",
    "Note below the \"estimated\" standard deviation of the sales data compared with the actual standard deviation"
   ]
  },
  {
   "cell_type": "code",
   "execution_count": 12,
   "metadata": {
    "deletable": false,
    "editable": false,
    "nbgrader": {
     "grade": false,
     "locked": true,
     "solution": false
    }
   },
   "outputs": [
    {
     "name": "stdout",
     "output_type": "stream",
     "text": [
      "Standard Deviation of Sales:  1186.0\n",
      "\n",
      "Estimated Standard Deviation from ACTUAL Range of Sales:  1998.265\n",
      "Estimated Standard Deviation from ESTIMATED Range of Sales:  2500\n",
      "\n",
      "Proportion of Estimates to Actual Standard Deviation: \n",
      "Proportion with Estimate from ACTUAL Range 1.68\n",
      "Proportion with Estimate from ESTIMATED Range 2.11\n"
     ]
    }
   ],
   "source": [
    "print(\"Standard Deviation of Sales: \", round(np.std(office['sales']),2))\n",
    "print(\"\\nEstimated Standard Deviation from ACTUAL Range of Sales: \", np.ptp(office['sales'])/6)\n",
    "print(\"Estimated Standard Deviation from ESTIMATED Range of Sales: \", 2500)\n",
    "print(\"\\nProportion of Estimates to Actual Standard Deviation: \")\n",
    "print(\"Proportion with Estimate from ACTUAL Range\", round((np.ptp(office['sales'])/6)/np.std(office['sales']),2))\n",
    "print(\"Proportion with Estimate from ESTIMATED Range\", round(2500/np.std(office['sales']),2))"
   ]
  },
  {
   "cell_type": "markdown",
   "metadata": {
    "deletable": false,
    "editable": false,
    "nbgrader": {
     "grade": false,
     "locked": true,
     "solution": false
    }
   },
   "source": [
    "As will be shown soon, estimates of the standard deviation that are 1.5 - 2 times the true standard deviation can have a significant impact on the sample size calculation.  \n",
    "\n",
    "With a maximum desired error of \\$50, we can start to fill the equation motivated by the lecture:\n",
    "\n",
    "$$Error = Z_{\\alpha/2} * \\frac{\\sigma}{\\sqrt{n}}$$\n",
    "\n",
    "$$50 = Z_{\\alpha/2}*\\frac{2500}{\\sqrt{n}}$$  "
   ]
  },
  {
   "cell_type": "markdown",
   "metadata": {
    "deletable": false,
    "editable": false,
    "nbgrader": {
     "grade": false,
     "locked": true,
     "solution": false
    }
   },
   "source": [
    "#### Calculation \"z\" Multiplier\n",
    "\n",
    "Above, the decision was made that a confidence level of $92.5\\%$ is desired.\n",
    "\n",
    "Let's revisit the concept of z-scores as we go about calculating that z-multiplier for a $92.5\\%$ confidence level.  \n",
    "\n",
    "-------------------------"
   ]
  },
  {
   "cell_type": "markdown",
   "metadata": {
    "deletable": false,
    "editable": false,
    "nbgrader": {
     "grade": false,
     "locked": true,
     "solution": false
    }
   },
   "source": [
    "Traditionally, z-scores are found using a z-table found, for example at [z-table.com](http://www.z-table.com) (Note, all pictures of z-tables are from z-table.com) However, Python offers other avenues for finding z-scores.  \n",
    "\n",
    "First: What is a z-score?  \n",
    "\n",
    "Let's look at a couple of examples. Note, all of these examples show the standard normal with mean = 0 and standard deviation of 1. \n",
    "\n",
    "\n",
    "On the z-table, we can look up a particular z-score. For example, first consider a z-score of .62.  \n",
    "\n",
    "Below, on the right you see a snippet of a z-table with the value for .62 highlighted.  \n",
    "\n",
    "On the left is a graph of the PDF with everything up to .62 standard-deviations shaded.  \n",
    "\n",
    "Note how the shaded portion coresponds to ~73% of the distribution -- the value found on the z-table\n",
    "\n",
    "![ex1](./assets/zScoreEx.PNG)  \n",
    "\n",
    "Below we see the same information, except for a z-score of -.62 instead of .62. Note the mirroring, due to the fact the distribution is symmetric.\n",
    "![ex2](./assets/zscoreEx3.png)  \n",
    "\n",
    "\n",
    "Thus, the .7324 associated with a z-score of .62 functionally says \"73.24% of all observations will be between $-\\infty$ and $\\mu + .62$.\"  \n",
    "\n",
    "The .2676 associated with the z-score of -.62 indicates that \"26.76% of all observations will be between $-\\infty$ and $\\mu - .62$.\"\n",
    "\n",
    "### The stats Package\n",
    "The \"`stats`\" package allows you to find these values in Python.  \n",
    "\n",
    "The \"`stats`\" package was already imported above.  \n",
    "\n",
    "Because we are interested in the normal distribution, the sytax for calls to stats will be: \"`stats.norm.<func>`\"  \n"
   ]
  },
  {
   "cell_type": "code",
   "execution_count": 13,
   "metadata": {
    "deletable": false,
    "editable": false,
    "nbgrader": {
     "grade": false,
     "locked": true,
     "solution": false
    }
   },
   "outputs": [
    {
     "name": "stdout",
     "output_type": "stream",
     "text": [
      "Value for .62; stats.norm.cdf(.62):  0.732371106531017\n",
      "Value for -.62; stats.norm.cdf(-.62):  0.26762889346898305\n",
      "\n",
      "\n",
      "z-score associated with proportion:\n",
      "\n",
      "stats.norm.ppf(.7324):  0.6200877754042505\n",
      "stats.norm.ppf(.2676):  -0.6200877754042504\n"
     ]
    }
   ],
   "source": [
    "# Find the \"z-table\" value for .62\n",
    "# Use the function `stats.norm.cdf()`\n",
    "# `cdf` stands for \"Cumulative Density Function\"\n",
    "print(\"Value for .62; stats.norm.cdf(.62): \",stats.norm.cdf(.62))\n",
    "\n",
    "# Find the \"z-table\" value for -.62\n",
    "print(\"Value for -.62; stats.norm.cdf(-.62): \",stats.norm.cdf(-.62))\n",
    "\n",
    "# Finding z-score associated with each proportion.\n",
    "# Use ppf (Percent Point Function)\n",
    "print(\"\\n\\nz-score associated with proportion:\\n\")\n",
    "print(\"stats.norm.ppf(.7324): \", stats.norm.ppf(.7324))\n",
    "print(\"stats.norm.ppf(.2676): \", stats.norm.ppf(.2676))"
   ]
  },
  {
   "cell_type": "markdown",
   "metadata": {
    "deletable": false,
    "editable": false,
    "nbgrader": {
     "grade": false,
     "locked": true,
     "solution": false
    }
   },
   "source": [
    "There is still one more step before finding the z-score for the 92.5% confidence interval.  Take a look at 95% confidence interval illustrated below:\n",
    "![95%](./assets/zscoreEx4.PNG)  \n",
    "\n",
    "Note how the *middle* 95% of data are included in the shaded region. The z-score of 1.96 should look familiar from lecture.  \n",
    "\n",
    "Thus, for our 92.5% confidence interval, we need to find the z-score such that the area between $\\mu-z$ and $\\mu + z$ contains 92.5% of the data.  \n",
    "\n",
    "The first thing to notice is that the un-shaded tails above each contain $\\frac12$ of the 5% of data absent from the interval. Thus, to yeild the 1.96 we can the `stats` function demonstrated above, asking Python to compute `stats.norm.ppf(.975)`.  \n",
    "\n",
    ".975 was calulated thusly:  \n",
    "\n",
    "$$1-((1-.95)/2) = 1-(.05/2) = 1-.025 = .975$$  \n",
    "\n",
    "Similarly, due to the symmetry of the normal distribution, we might ask `.ppf()` for the value associated with $1-.975$"
   ]
  },
  {
   "cell_type": "code",
   "execution_count": 14,
   "metadata": {
    "deletable": false,
    "editable": false,
    "nbgrader": {
     "grade": false,
     "locked": true,
     "solution": false
    }
   },
   "outputs": [
    {
     "name": "stdout",
     "output_type": "stream",
     "text": [
      "stats.norm.ppf(.975):  1.959963984540054\n",
      "stats.norm.ppf(.025):  -1.9599639845400545\n"
     ]
    }
   ],
   "source": [
    "print(\"stats.norm.ppf(.975): \" , stats.norm.ppf(.975))\n",
    "print(\"stats.norm.ppf(.025): \" , stats.norm.ppf(.025))"
   ]
  },
  {
   "cell_type": "markdown",
   "metadata": {
    "deletable": false,
    "editable": false,
    "nbgrader": {
     "grade": false,
     "locked": true,
     "solution": false
    }
   },
   "source": [
    "Alternatively, \"`stats`\" provides a function called \"`.interval()`\" Which gives the two z-scores for the endpoints of the interval provided."
   ]
  },
  {
   "cell_type": "code",
   "execution_count": 15,
   "metadata": {
    "deletable": false,
    "editable": false,
    "nbgrader": {
     "grade": false,
     "locked": true,
     "solution": false
    },
    "scrolled": true
   },
   "outputs": [
    {
     "name": "stdout",
     "output_type": "stream",
     "text": [
      "stats.norm.interval(.95):  (-1.959963984540054, 1.959963984540054)\n"
     ]
    }
   ],
   "source": [
    "print(\"stats.norm.interval(.95): \", stats.norm.interval(.95))"
   ]
  },
  {
   "cell_type": "markdown",
   "metadata": {
    "deletable": false,
    "editable": false,
    "nbgrader": {
     "grade": false,
     "locked": true,
     "solution": false
    }
   },
   "source": [
    "Having calculated the z-score of the 95% interval one more example before returning to the 92.5% confidence interval.  \n",
    "\n",
    "Suppose You wanted to find the correct multiplier for a 90% level of confidence using the above methods.  \n",
    "\n",
    "Using \"`.interval`\" we just need to enter in `.9`, Using \"`.ppf`\" the values are:  \n",
    "\n",
    "$ 0 + (1-.9)/2 = .05$  \n",
    "and  \n",
    "$1 - (1-.9)/2 = .95$.  \n",
    "\n",
    "That centered 90% goes from 5% to 95%.  "
   ]
  },
  {
   "cell_type": "code",
   "execution_count": 16,
   "metadata": {
    "deletable": false,
    "editable": false,
    "nbgrader": {
     "grade": false,
     "locked": true,
     "solution": false
    }
   },
   "outputs": [
    {
     "name": "stdout",
     "output_type": "stream",
     "text": [
      ".interval(.90): (-1.6448536269514729, 1.6448536269514722)\n",
      "\n",
      ".ppf([.05, .95]):  [-1.64485363  1.64485363]\n"
     ]
    }
   ],
   "source": [
    "# Use \"interval\" to return the lower and upper z-scores of the specified\n",
    "# sized interval centered at the mean\n",
    "print(\".interval(.90):\", stats.norm.interval(.90))\n",
    "\n",
    "# Use ppf (Percent Point Function) to find the z-score(s) of \n",
    "# the specified percentage. Note that 5% and 95% are used to\n",
    "# yeild the centered 90% interval z-scores\n",
    "print(\"\\n.ppf([.05, .95]): \", stats.norm.ppf([.05,.95]))"
   ]
  },
  {
   "cell_type": "markdown",
   "metadata": {
    "deletable": false,
    "editable": false,
    "nbgrader": {
     "grade": false,
     "locked": true,
     "solution": false
    }
   },
   "source": [
    "\n",
    "\n",
    "As a proportion, 92.5% is equal to .925  \n",
    "\n",
    "For using the `.ppf()` functions, the calculation for the values to input are below.\n",
    "\n",
    "$ 1- ((1-.925)/2) = 1-(.075/2) = 1- .0375 = .9625$  \n",
    "$1-.9625 = .0375$"
   ]
  },
  {
   "cell_type": "code",
   "execution_count": 17,
   "metadata": {
    "deletable": false,
    "editable": false,
    "nbgrader": {
     "grade": false,
     "locked": true,
     "solution": false
    },
    "scrolled": true
   },
   "outputs": [
    {
     "name": "stdout",
     "output_type": "stream",
     "text": [
      "stats.norm.ppf(.9625):  1.7804643416920256\n",
      "stats.norm.ppf(.0375):  -1.7804643416920256\n",
      "stats.norm.interval(.925):  (-1.7804643416920256, 1.7804643416920256)\n"
     ]
    }
   ],
   "source": [
    "print(\"stats.norm.ppf(.9625): \" , stats.norm.ppf(.9625))\n",
    "print(\"stats.norm.ppf(.0375): \" , stats.norm.ppf(.0375))\n",
    "print(\"stats.norm.interval(.925): \", stats.norm.interval(.925))"
   ]
  },
  {
   "cell_type": "markdown",
   "metadata": {
    "deletable": false,
    "editable": false,
    "nbgrader": {
     "grade": false,
     "locked": true,
     "solution": false
    }
   },
   "source": [
    "Thus the z-multiplier for the 92.5% confidence interval is about 1.78.  \n",
    "\n",
    "Continuing to fill out the equation to calculate the needed sample size:  \n",
    "\n",
    "$$50 = Z_{\\alpha/2}*\\frac{2500}{\\sqrt{n}}$$ \n",
    "$$50 = 1.78 * \\frac{2500}{\\sqrt{n}}$$\n",
    "$$n = 1.78^2 * (\\frac{2500}{50})^2$$\n",
    "$$n = 1.78^2 * 50^2$$\n",
    "\n",
    "The final calculation below for n"
   ]
  },
  {
   "cell_type": "code",
   "execution_count": 18,
   "metadata": {
    "deletable": false,
    "editable": false,
    "nbgrader": {
     "grade": false,
     "locked": true,
     "solution": false
    }
   },
   "outputs": [
    {
     "data": {
      "text/plain": [
       "7921.0"
      ]
     },
     "execution_count": 18,
     "metadata": {},
     "output_type": "execute_result"
    }
   ],
   "source": [
    "# Finish calculation for n\n",
    "(1.78**2)* (50**2)"
   ]
  },
  {
   "cell_type": "markdown",
   "metadata": {
    "deletable": false,
    "editable": false,
    "nbgrader": {
     "grade": false,
     "locked": true,
     "solution": false
    }
   },
   "source": [
    "According to this calculation, in order to be 92.5% confident that the sample mean of \"sales\" falls within \\$50 of the population mean of sales, a sample of 7,921 observations would need to be taken.  \n",
    "\n",
    "That number should seem high. Let's visualize this result and look at the impact of estimated standard deviation on the calculation.\n",
    "\n",
    "First: What is our concern? The error of the sample mean.   \n",
    "\n",
    "The desire is to have $92.5\\%$ confidence that our sample mean falls within \\$50 of the actual population mean.  \n",
    "\n",
    "We calculated that 7,921 pieces of data would fulfill that desire. Below, 7,921 samples from \"sales\" are taken and averaged 1,000 times."
   ]
  },
  {
   "cell_type": "code",
   "execution_count": 19,
   "metadata": {
    "collapsed": true,
    "deletable": false,
    "editable": false,
    "nbgrader": {
     "grade": false,
     "locked": true,
     "solution": false
    }
   },
   "outputs": [],
   "source": [
    "# Create list to store averages\n",
    "samp_means_7921 = []\n",
    "\n",
    "# Perform sampling 1000 times\n",
    "for i in range(1000):\n",
    "    # Find mean of sample of siz 7921\n",
    "    samp_mean = np.mean(np.random.choice(office['sales'], size = 7921, replace = False))\n",
    "    \n",
    "    # Save mean in list\n",
    "    samp_means_7921.append(samp_mean)\n",
    "\n",
    "# Calculate actual population mean\n",
    "pop_mean = np.mean(office['sales'])"
   ]
  },
  {
   "cell_type": "markdown",
   "metadata": {
    "deletable": false,
    "editable": false,
    "nbgrader": {
     "grade": false,
     "locked": true,
     "solution": false
    }
   },
   "source": [
    "The means of those 1000 draws are visualized below."
   ]
  },
  {
   "cell_type": "code",
   "execution_count": 20,
   "metadata": {
    "deletable": false,
    "editable": false,
    "nbgrader": {
     "grade": false,
     "locked": true,
     "solution": false
    }
   },
   "outputs": [
    {
     "data": {
      "image/png": "[encoded data removed]",
      "text/plain": [
       "<Figure size 432x288 with 1 Axes>"
      ]
     },
     "metadata": {},
     "output_type": "display_data"
    }
   ],
   "source": [
    "# Plot histogram of sample means\n",
    "plt.hist(samp_means_7921, bins = 50)\n",
    "\n",
    "# Plot vertical lines corresponding to mean and plus/minus 50\n",
    "plt.vlines(pop_mean, *plt.ylim(), label = \"True Mean\")\n",
    "plt.vlines([pop_mean+50, pop_mean - 50], *plt.ylim(), colors= 'r', linestyles= '--', label = \"True Mean $\\pm$ 50\")\n",
    "\n",
    "# Add legend leveraging \"label\" arguments above\n",
    "plt.legend();"
   ]
  },
  {
   "cell_type": "markdown",
   "metadata": {
    "deletable": false,
    "editable": false,
    "nbgrader": {
     "grade": false,
     "locked": true,
     "solution": false
    }
   },
   "source": [
    "Instead of $92.5\\%$ of sample means falling between $\\mu\\pm 50$, $100\\%$ of the means fall in that interval.  \n",
    "\n",
    "This is not too unexpected, remember, the sample size of 7,921 was calculated using an *estimate* of the population standard deviation.  \n",
    "\n",
    "Below, two more sample sizes are calculated:\n",
    "- Use an estimate of standard deviation derived from the observed range of the sales data divided by 6  \n",
    "- Use the observed standard deviation from the sales data."
   ]
  },
  {
   "cell_type": "code",
   "execution_count": 21,
   "metadata": {
    "deletable": false,
    "editable": false,
    "nbgrader": {
     "grade": false,
     "locked": true,
     "solution": false
    }
   },
   "outputs": [
    {
     "name": "stdout",
     "output_type": "stream",
     "text": [
      "True SD: 1185.9985229774793\n",
      "Estimated SD: 1998.265\n"
     ]
    }
   ],
   "source": [
    "est_sd = np.ptp(office['sales'])/6\n",
    "true_sd = np.std(office['sales'])\n",
    "\n",
    "print(\"True SD: \", true_sd, \"\\nEstimated SD: \", est_sd, sep = '')"
   ]
  },
  {
   "cell_type": "markdown",
   "metadata": {
    "deletable": false,
    "editable": false,
    "nbgrader": {
     "grade": false,
     "locked": true,
     "solution": false
    }
   },
   "source": [
    "With the two above standard deviations, re-calculate the samples needed for that 92.5% confidence of and error of 50 or less:"
   ]
  },
  {
   "cell_type": "code",
   "execution_count": 22,
   "metadata": {
    "deletable": false,
    "editable": false,
    "nbgrader": {
     "grade": false,
     "locked": true,
     "solution": false
    }
   },
   "outputs": [
    {
     "name": "stdout",
     "output_type": "stream",
     "text": [
      "Needed sample calculated from True SD: 1783.0\n",
      "Needed sample calculated from Estimated SD: 5061.0\n"
     ]
    }
   ],
   "source": [
    "# Calculate using true standard deviation:\n",
    "\n",
    "true_sd_samp = (1.78 **2) *( (true_sd / 50)**2)\n",
    "\n",
    "# Calculate using estimated standard deviation\n",
    "\n",
    "est_st_samp = (1.78 **2) *( (est_sd / 50)**2)\n",
    "\n",
    "print(\"Needed sample calculated from True SD: \", round(true_sd_samp),\n",
    "      \"\\nNeeded sample calculated from Estimated SD: \", round(est_st_samp), sep = '')"
   ]
  },
  {
   "cell_type": "markdown",
   "metadata": {
    "deletable": false,
    "editable": false,
    "nbgrader": {
     "grade": false,
     "locked": true,
     "solution": false
    }
   },
   "source": [
    "Looking at the above, it is clear that standard deviation has a huge impact on the needed number of datapoints.  \n",
    "The visual below, depicts the relationship between standard deviation and sample size."
   ]
  },
  {
   "cell_type": "code",
   "execution_count": 23,
   "metadata": {
    "deletable": false,
    "editable": false,
    "nbgrader": {
     "grade": false,
     "locked": true,
     "solution": false
    }
   },
   "outputs": [
    {
     "data": {
      "image/png": "[encoded data removed]",
      "text/plain": [
       "<Figure size 288x288 with 1 Axes>"
      ]
     },
     "metadata": {},
     "output_type": "display_data"
    }
   ],
   "source": [
    "# Create 200 evenly spaced numbers between 0 and 2500\n",
    "# This represents the standard deviations\n",
    "st_devs = np.linspace(0, 2500, num = 200)\n",
    "\n",
    "# Calculate sample size indicated by standard deviations\n",
    "samp_sizes = (1.78**2) * ((st_devs/50)**2)\n",
    "\n",
    "# Plotting figure\n",
    "plt.figure(figsize = (4,4)) # Define size of figure\n",
    "plt.plot(st_devs, samp_sizes) # Plot line\n",
    "\n",
    "\n",
    "# Define limits of plot\n",
    "plt.xlim(0,5000)\n",
    "plt.ylim(0,5000)\n",
    "\n",
    "# Plot gridlines\n",
    "for g in range(1000,4001,1000):\n",
    "    plt.vlines(g,*plt.ylim(), alpha = .1 )\n",
    "    plt.hlines(g,*plt.xlim(), alpha = .1 )\n",
    "    \n",
    "# Modify axis labeling\n",
    "plt.xticks(rotation = 90)\n",
    "plt.xlabel(\"Standard Deviation\")\n",
    "plt.ylabel(\"Indicated Sample Size\");"
   ]
  },
  {
   "cell_type": "markdown",
   "metadata": {
    "deletable": false,
    "editable": false,
    "nbgrader": {
     "grade": false,
     "locked": true,
     "solution": false
    }
   },
   "source": [
    "That's quite the exponential curve!  \n",
    "\n",
    "Now we'll perform the same sampling test with the sample sizes indicated by the new estimate of the standard deviation and the true standard deviation."
   ]
  },
  {
   "cell_type": "code",
   "execution_count": 24,
   "metadata": {
    "deletable": false,
    "editable": false,
    "nbgrader": {
     "grade": false,
     "locked": true,
     "solution": false
    }
   },
   "outputs": [
    {
     "data": {
      "image/png": "[encoded data removed]",
      "text/plain": [
       "<Figure size 864x252 with 2 Axes>"
      ]
     },
     "metadata": {},
     "output_type": "display_data"
    }
   ],
   "source": [
    "# Create Dictionary to store sample means\n",
    "samp_means= {1783:[], 5061:[]}\n",
    "\n",
    "# Take 1000 Draws of each sample size\n",
    "for i in range(1000):\n",
    "    for s in [1783, 5061]:\n",
    "        samp_means[s].append( np.mean(np.random.choice(office['sales'], size = s, replace = False)))\n",
    "\n",
    "# Calculate True mean\n",
    "pop_mean = np.mean(office['sales'])\n",
    "\n",
    "# Set up plot\n",
    "fig, (axs) = plt.subplots(1,2, sharex = True, sharey = True, figsize = (12,3.5))\n",
    "\n",
    "for samp_size, ax in zip(samp_means.keys(), axs):\n",
    "    \n",
    "    # Plot histogram of sample means\n",
    "    ax.hist(samp_means[samp_size], bins = range(910,1081, 5))\n",
    "    ax.set_title(\"Sample Size = \" + str(samp_size))\n",
    "\n",
    "    ax.set_ylim(0,150)\n",
    "    \n",
    "    # Plot vertical lines corresponding to mean and plus/minus 50\n",
    "    ax.vlines(pop_mean, *plt.ylim(), label = \"True Mean\")\n",
    "    ax.vlines([pop_mean+50, pop_mean - 50], *plt.ylim(), colors= 'r', linestyles= '--', label = \"True Mean $\\pm$ 50\")\n",
    "\n",
    "    # Add legend leveraging \"label\" arguments above\n",
    "    ax.legend(loc = \"upper right\");"
   ]
  },
  {
   "cell_type": "markdown",
   "metadata": {
    "deletable": false,
    "editable": false,
    "nbgrader": {
     "grade": false,
     "locked": true,
     "solution": false
    }
   },
   "source": [
    "Note, the above visualization will change every time the cell is run, due to new samplings being performed.  \n",
    "\n",
    "But, again, when taking 5061 samples, as indicated by the \"estimated\" standard deviation, none (or very very few) of the means fall outside of the true mean plus/minus 50.\n",
    "\n",
    "Now let's see how many of the sample means of 1783 sampless fall outside of the $\\pm50$ window. Given the 1000 draws and the $92.5\\%$ confidence level we would expect roughly 75 to fall outside of the window.  "
   ]
  },
  {
   "cell_type": "code",
   "execution_count": 25,
   "metadata": {
    "deletable": false,
    "editable": false,
    "nbgrader": {
     "grade": false,
     "locked": true,
     "solution": false
    }
   },
   "outputs": [
    {
     "name": "stdout",
     "output_type": "stream",
     "text": [
      "There were 70 sample means that fell outside of the window when sampling\n"
     ]
    }
   ],
   "source": [
    "# Using list comprehension:\n",
    "# Save all values that are greater than the mean + 50 or less than the mean - 50\n",
    "outside_limits = [s for s in samp_means[1783] if s > pop_mean + 50 or s < pop_mean -50]\n",
    "print(\"There were\", len(outside_limits), \"sample means that fell outside of the window when sampling\")"
   ]
  },
  {
   "cell_type": "markdown",
   "metadata": {
    "deletable": false,
    "editable": false,
    "nbgrader": {
     "grade": false,
     "locked": true,
     "solution": false
    }
   },
   "source": [
    "Given a particular sample, the above will change.  \n",
    "\n",
    "Below is a barplot of the number of sample means outside the $\\pm50$ window, given 1,000 different iterations of 1,000 sample means calculated from draws of 1,783, and 5,061 samples. \n",
    "![Outside](./assets/outside.PNG)  "
   ]
  },
  {
   "cell_type": "markdown",
   "metadata": {
    "deletable": false,
    "editable": false,
    "nbgrader": {
     "grade": false,
     "locked": true,
     "solution": false
    }
   },
   "source": [
    "### Questions\n",
    "For the graded part of this assignment, you will be asked to answer questions about the \"transactions\" data in the \"office\" dataset. The questions will involve performing the calculations demonstrated above and in the lecture.\n",
    "\n",
    "The \"transactions\" data can be accessed in the same way that 'sales' was accessed in the examples above. An object called \"trans\" is also created below which contains the same transaction data.\n",
    "\n",
    "See below for a demonstration of how to access that data:"
   ]
  },
  {
   "cell_type": "code",
   "execution_count": 26,
   "metadata": {
    "deletable": false,
    "editable": false,
    "nbgrader": {
     "grade": false,
     "locked": true,
     "solution": false
    }
   },
   "outputs": [
    {
     "name": "stdout",
     "output_type": "stream",
     "text": [
      "Printing the first 10 element of 'trans': [20  2 12  9  1 18 11  1  6  3]\n",
      "And its mean: 8.3\n",
      "\n",
      "Printing the first 10 elements of transaction data from 'office': \n",
      "0    20\n",
      "1     2\n",
      "2    12\n",
      "3     9\n",
      "4     1\n",
      "5    18\n",
      "6    11\n",
      "7     1\n",
      "8     6\n",
      "9     3\n",
      "Name: transactions, dtype: int64\n",
      "And its mean: 8.3\n",
      "\n",
      "Checking: are the mean of 'trans' and 'office['transactions']' the same? True\n"
     ]
    }
   ],
   "source": [
    "# A variable called \"trans\" now contains all the transaction data\n",
    "trans = office['transactions'].values\n",
    "\n",
    "print(\"Printing the first 10 element of 'trans': \", trans[:10],\n",
    "     \"\\nAnd its mean: \", np.mean(trans[:10]), sep = \"\")\n",
    "\n",
    "# If you want to access the transaction data in a similar manner to the \"sales\" data\n",
    "# The below sytax will also work.\n",
    "\n",
    "print(\"\\nPrinting the first 10 elements of transaction data from 'office': \\n\", office['transactions'][:10],\n",
    "      \"\\nAnd its mean: \", np.mean(office['transactions'][:10]),sep = \"\")\n",
    "\n",
    "print(\"\\nChecking: are the mean of 'trans' and 'office['transactions']' the same?\",\n",
    "      np.mean(trans) == np.mean(office['transactions']))"
   ]
  },
  {
   "cell_type": "markdown",
   "metadata": {
    "deletable": false,
    "editable": false,
    "nbgrader": {
     "grade": false,
     "locked": true,
     "solution": false
    }
   },
   "source": [
    "#### Question 1"
   ]
  },
  {
   "cell_type": "code",
   "execution_count": 27,
   "metadata": {},
   "outputs": [
    {
     "name": "stdout",
     "output_type": "stream",
     "text": [
      "13.591074622363006\n"
     ]
    }
   ],
   "source": [
    "### GRADED\n",
    "### What is the true population mean of the \"transaction\" data?\n",
    "### Hint: Use a numpy function\n",
    "\n",
    "### Assign float to ans1\n",
    "### YOUR ANSWER BELOW\n",
    "import numpy as np\n",
    "x = np.mean(office['transactions'])\n",
    "print(x)\n",
    "ans1 = 13.591074622363006"
   ]
  },
  {
   "cell_type": "code",
   "execution_count": 28,
   "metadata": {
    "collapsed": true,
    "deletable": false,
    "editable": false,
    "nbgrader": {
     "grade": true,
     "grade_id": "Question 1",
     "locked": true,
     "points": "10",
     "solution": false
    }
   },
   "outputs": [],
   "source": [
    "###\n",
    "### AUTOGRADER TEST - DO NOT REMOVE\n",
    "###\n"
   ]
  },
  {
   "cell_type": "markdown",
   "metadata": {
    "deletable": false,
    "editable": false,
    "nbgrader": {
     "grade": false,
     "locked": true,
     "solution": false
    }
   },
   "source": [
    "#### Question 2"
   ]
  },
  {
   "cell_type": "code",
   "execution_count": 29,
   "metadata": {},
   "outputs": [
    {
     "name": "stdout",
     "output_type": "stream",
     "text": [
      "7.45127588664121\n"
     ]
    }
   ],
   "source": [
    "### GRADED\n",
    "### What is the true population standard deviation of the \"transaction\" data?\n",
    "### Hint: Use a numpy function\n",
    "\n",
    "### Assign float to ans1\n",
    "### YOUR ANSWER BELOW\n",
    "y = np.std(office['transactions'])\n",
    "print(y)\n",
    "ans1 = 7.45127588664121"
   ]
  },
  {
   "cell_type": "code",
   "execution_count": 30,
   "metadata": {
    "collapsed": true,
    "deletable": false,
    "editable": false,
    "nbgrader": {
     "grade": true,
     "grade_id": "Question 2",
     "locked": true,
     "points": "10",
     "solution": false
    }
   },
   "outputs": [],
   "source": [
    "###\n",
    "### AUTOGRADER TEST - DO NOT REMOVE\n",
    "###\n"
   ]
  },
  {
   "cell_type": "markdown",
   "metadata": {
    "deletable": false,
    "editable": false,
    "nbgrader": {
     "grade": false,
     "locked": true,
     "solution": false
    }
   },
   "source": [
    "#### Question 3"
   ]
  },
  {
   "cell_type": "code",
   "execution_count": 31,
   "metadata": {
    "collapsed": true,
    "nbgrader": {
     "grade": false,
     "locked": false,
     "solution": false
    }
   },
   "outputs": [],
   "source": [
    "### GRADED\n",
    "### Assume that the number of transactions includes values spanning from 1 to 66\n",
    "### Thus the range is 66\n",
    "\n",
    "### In that case, where the range of transactions is 66, estimate the standard deviation\n",
    "### of the transactions using the range 66 with the method described above and in lecture.\n",
    "\n",
    "### Assign number, int or float, to ans1\n",
    "### YOUR ANSWER BELOW\n",
    "\n",
    "x = 66/6  # range/6, the denominator comes from +/- 3 standard deviations from the mean three left plus three right, total = 6\n",
    "\n",
    "ans1= 11"
   ]
  },
  {
   "cell_type": "code",
   "execution_count": 32,
   "metadata": {
    "collapsed": true,
    "deletable": false,
    "editable": false,
    "nbgrader": {
     "grade": true,
     "grade_id": "Question 3",
     "locked": true,
     "points": "10",
     "solution": false
    }
   },
   "outputs": [],
   "source": [
    "###\n",
    "### AUTOGRADER TEST - DO NOT REMOVE\n",
    "###\n"
   ]
  },
  {
   "cell_type": "markdown",
   "metadata": {
    "deletable": false,
    "editable": false,
    "nbgrader": {
     "grade": false,
     "locked": true,
     "solution": false
    }
   },
   "source": [
    "#### Question 4"
   ]
  },
  {
   "cell_type": "code",
   "execution_count": 33,
   "metadata": {},
   "outputs": [
    {
     "name": "stdout",
     "output_type": "stream",
     "text": [
      "(-1.959963984540054, 1.959963984540054)\n"
     ]
    }
   ],
   "source": [
    "### GRADED\n",
    "### If a 95% level of confidence is required, what z-score should be used for\n",
    "### calculating the required number of samples to achieve a specific error\n",
    "### Hint: use a method from the stats package\n",
    "\n",
    "### Assign POSITIVE float to ans1; answer checked to 4 decimal places\n",
    "### YOUR ANSWER BELOW\n",
    "\n",
    "z = stats.norm.interval(.95)\n",
    "print(z)\n",
    "\n",
    "ans1 = 1.959963984540054"
   ]
  },
  {
   "cell_type": "code",
   "execution_count": 34,
   "metadata": {
    "collapsed": true,
    "deletable": false,
    "editable": false,
    "nbgrader": {
     "grade": true,
     "grade_id": "Question 4",
     "locked": true,
     "points": "10",
     "solution": false
    }
   },
   "outputs": [],
   "source": [
    "###\n",
    "### AUTOGRADER TEST - DO NOT REMOVE\n",
    "###\n"
   ]
  },
  {
   "cell_type": "markdown",
   "metadata": {
    "deletable": false,
    "editable": false,
    "nbgrader": {
     "grade": false,
     "locked": true,
     "solution": false
    }
   },
   "source": [
    "#### Question 5"
   ]
  },
  {
   "cell_type": "code",
   "execution_count": 35,
   "metadata": {},
   "outputs": [
    {
     "name": "stdout",
     "output_type": "stream",
     "text": [
      "(-1.6448536269514729, 1.6448536269514722)\n",
      "68.0\n"
     ]
    }
   ],
   "source": [
    "### GRADED\n",
    "\n",
    "### Calculate the sample size required to achieve an error rate of plus/minus 2 or less with 90% confidence\n",
    "### Use the below parameters:\n",
    "\n",
    "### Estimated standard deviation of 10\n",
    "\n",
    "### NOTE: the convention for sample size is to round a fractional sample size up to the next highest integer\n",
    "### NOTE: to round up a fractional value use np.ceil(value)\n",
    "### Assign int to ans1\n",
    "### YOUR ANSWER BELOW\n",
    "\n",
    "a = stats.norm.interval(.90)\n",
    "print(a)\n",
    "\n",
    "#\n",
    "#Error = 2\n",
    "#Std = 10\n",
    "# Zalpha/2 = 1.644\n",
    "#N = ?\n",
    "\n",
    "\n",
    "\n",
    "#2 = 1.6448536269514722^2 * (10/sqrt(n))\n",
    "\n",
    "#n = 2.7055 * 25\n",
    "\n",
    "#N = 67.6375\n",
    "\n",
    "\n",
    "\n",
    "b = np.ceil(67.6375)\n",
    "print(b)\n",
    "ans1 = 68"
   ]
  },
  {
   "cell_type": "code",
   "execution_count": 36,
   "metadata": {
    "collapsed": true,
    "deletable": false,
    "editable": false,
    "nbgrader": {
     "grade": true,
     "grade_id": "Question 5",
     "locked": true,
     "points": "10",
     "solution": false
    }
   },
   "outputs": [],
   "source": [
    "###\n",
    "### AUTOGRADER TEST - DO NOT REMOVE\n",
    "###\n"
   ]
  },
  {
   "cell_type": "markdown",
   "metadata": {
    "deletable": false,
    "editable": false,
    "nbgrader": {
     "grade": false,
     "locked": true,
     "solution": false
    }
   },
   "source": [
    "Now we'll take this question from the other side.  \n",
    "\n",
    "Given a sample size, and given a range of responses, estimate the error of the sample mean.\n",
    "\n",
    "Remember, the equation is:\n",
    "$$EstError = z_{\\alpha/2}*\\frac{\\sigma}{\\sqrt{n}}$$\n",
    "\n",
    "Let's take a sample of 100 values from the transactions, estimate the error, and find the true error. The output from below will change every time the cell is run."
   ]
  },
  {
   "cell_type": "code",
   "execution_count": 37,
   "metadata": {
    "deletable": false,
    "editable": false,
    "nbgrader": {
     "grade": false,
     "locked": true,
     "solution": false
    }
   },
   "outputs": [
    {
     "name": "stdout",
     "output_type": "stream",
     "text": [
      "Estimated 95% error: $\\pm$ 1.0453333333333332 \n",
      "True error:  -0.7489253776369935\n"
     ]
    }
   ],
   "source": [
    "# Define sample size\n",
    "samp_size = 100\n",
    "\n",
    "# Take sample\n",
    "trans_sample = np.random.choice(office['transactions'], size = samp_size, replace = False)\n",
    "\n",
    "# Find range of sample\n",
    "observed_range = np.ptp(trans_sample)\n",
    "\n",
    "# Estimate standard deviation from sample range\n",
    "estimated_sd = observed_range / 6\n",
    "\n",
    "# 95% confidence interval z-multiplier\n",
    "z_mult = 1.96\n",
    "\n",
    "est_error = z_mult * (estimated_sd / np.sqrt(samp_size))\n",
    "\n",
    "true_error = np.mean(office['transactions']) - np.mean(trans_sample)\n",
    "print(\"Estimated 95% error: $\\pm$\", est_error, \"\\nTrue error: \", true_error)"
   ]
  },
  {
   "cell_type": "markdown",
   "metadata": {
    "deletable": false,
    "editable": false,
    "nbgrader": {
     "grade": false,
     "locked": true,
     "solution": false
    }
   },
   "source": [
    "#### Question 6"
   ]
  },
  {
   "cell_type": "code",
   "execution_count": null,
   "metadata": {
    "collapsed": true
   },
   "outputs": [],
   "source": [
    "### GRADED\n",
    "### If the range of a sample is 240, what would be the estimate of the standard deviation?\n",
    "### Refer to and use the technique used above\n",
    "\n",
    "### Assign numeric answer to ans1\n",
    "\n",
    "### YOUR ANSWER BELOW\n",
    "\n",
    "sample_range = 240\n",
    "\n",
    "ans1 = 40"
   ]
  },
  {
   "cell_type": "code",
   "execution_count": null,
   "metadata": {
    "collapsed": true,
    "deletable": false,
    "editable": false,
    "nbgrader": {
     "grade": true,
     "grade_id": "Question 6",
     "locked": true,
     "points": "10",
     "solution": false
    }
   },
   "outputs": [],
   "source": [
    "###\n",
    "### AUTOGRADER TEST - DO NOT REMOVE\n",
    "###\n"
   ]
  },
  {
   "cell_type": "markdown",
   "metadata": {
    "deletable": false,
    "editable": false,
    "nbgrader": {
     "grade": false,
     "locked": true,
     "solution": false
    }
   },
   "source": [
    "#### Question 7"
   ]
  },
  {
   "cell_type": "code",
   "execution_count": 38,
   "metadata": {},
   "outputs": [
    {
     "name": "stdout",
     "output_type": "stream",
     "text": [
      "8.166666666666668\n"
     ]
    }
   ],
   "source": [
    "### GRADED\n",
    "### Assume an estimated standard deviation of 50 from a sample size of 144\n",
    "### Given the estimated standard deviation, and sample size:\n",
    "### Estimate the 95% confidence interval error.\n",
    "### NB: Use 1.96 as the z_multiplier for estimating the error.\n",
    "\n",
    "### Assign numeric answer to ans1\n",
    "\n",
    "### YOUR ANSWER BELOW\n",
    "\n",
    "est_sd = 50\n",
    "samp_size = 144\n",
    "z_mult = 1.96\n",
    "\n",
    "error = z_mult * (est_sd/np.sqrt(samp_size))\n",
    "print(error)\n",
    "\n",
    "ans1 = 8.166666666666668"
   ]
  },
  {
   "cell_type": "code",
   "execution_count": null,
   "metadata": {
    "collapsed": true,
    "deletable": false,
    "editable": false,
    "nbgrader": {
     "grade": true,
     "grade_id": "Question 7",
     "locked": true,
     "points": "20",
     "solution": false
    }
   },
   "outputs": [],
   "source": [
    "###\n",
    "### AUTOGRADER TEST - DO NOT REMOVE\n",
    "###\n"
   ]
  }
 ],
 "metadata": {
  "kernelspec": {
   "display_name": "Python 3",
   "language": "python",
   "name": "python3"
  },
  "language_info": {
   "codemirror_mode": {
    "name": "ipython",
    "version": 3
   },
   "file_extension": ".py",
   "mimetype": "text/x-python",
   "name": "python",
   "nbconvert_exporter": "python",
   "pygments_lexer": "ipython3",
   "version": "3.7.6"
  }
 },
 "nbformat": 4,
 "nbformat_minor": 2
}
