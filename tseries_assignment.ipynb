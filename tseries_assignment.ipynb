{
 "cells": [
  {
   "cell_type": "markdown",
   "metadata": {
    "deletable": false,
    "editable": false,
    "nbgrader": {
     "grade": false,
     "locked": true,
     "solution": false
    }
   },
   "source": [
    "# Predicting with Time Series\n",
    "\n",
    "Below, we review some of the basics in exploring and modeling with time series data.  Our data is from stock tickers for Amazon.  We will target predicting the **close** feature or closing price of the stock on a given date.\n",
    "\n"
   ]
  },
  {
   "cell_type": "code",
   "execution_count": 1,
   "metadata": {
    "collapsed": true,
    "deletable": false,
    "editable": false,
    "nbgrader": {
     "grade": false,
     "locked": true,
     "solution": false
    }
   },
   "outputs": [],
   "source": [
    "%matplotlib inline\n",
    "import matplotlib.pyplot as plt\n",
    "import pandas as pd\n",
    "import numpy as np\n",
    "import warnings\n",
    "warnings.filterwarnings('ignore')"
   ]
  },
  {
   "cell_type": "code",
   "execution_count": 2,
   "metadata": {
    "collapsed": true,
    "deletable": false,
    "editable": false,
    "nbgrader": {
     "grade": false,
     "locked": true,
     "solution": false
    }
   },
   "outputs": [],
   "source": [
    "amzn = pd.read_csv('../resource/asnlib/publicdata/AMZN_2006-01-01_to_2018-01-01.csv')"
   ]
  },
  {
   "cell_type": "code",
   "execution_count": 3,
   "metadata": {
    "deletable": false,
    "editable": false,
    "nbgrader": {
     "grade": false,
     "locked": true,
     "solution": false
    }
   },
   "outputs": [
    {
     "data": {
      "text/html": [
       "<div>\n",
       "<style scoped>\n",
       "    .dataframe tbody tr th:only-of-type {\n",
       "        vertical-align: middle;\n",
       "    }\n",
       "\n",
       "    .dataframe tbody tr th {\n",
       "        vertical-align: top;\n",
       "    }\n",
       "\n",
       "    .dataframe thead th {\n",
       "        text-align: right;\n",
       "    }\n",
       "</style>\n",
       "<table border=\"1\" class=\"dataframe\">\n",
       "  <thead>\n",
       "    <tr style=\"text-align: right;\">\n",
       "      <th></th>\n",
       "      <th>Date</th>\n",
       "      <th>Open</th>\n",
       "      <th>High</th>\n",
       "      <th>Low</th>\n",
       "      <th>Close</th>\n",
       "      <th>Volume</th>\n",
       "      <th>Name</th>\n",
       "    </tr>\n",
       "  </thead>\n",
       "  <tbody>\n",
       "    <tr>\n",
       "      <th>0</th>\n",
       "      <td>2006-01-03</td>\n",
       "      <td>47.47</td>\n",
       "      <td>47.85</td>\n",
       "      <td>46.25</td>\n",
       "      <td>47.58</td>\n",
       "      <td>7582127</td>\n",
       "      <td>AMZN</td>\n",
       "    </tr>\n",
       "    <tr>\n",
       "      <th>1</th>\n",
       "      <td>2006-01-04</td>\n",
       "      <td>47.48</td>\n",
       "      <td>47.73</td>\n",
       "      <td>46.69</td>\n",
       "      <td>47.25</td>\n",
       "      <td>7440914</td>\n",
       "      <td>AMZN</td>\n",
       "    </tr>\n",
       "    <tr>\n",
       "      <th>2</th>\n",
       "      <td>2006-01-05</td>\n",
       "      <td>47.16</td>\n",
       "      <td>48.20</td>\n",
       "      <td>47.11</td>\n",
       "      <td>47.65</td>\n",
       "      <td>5417258</td>\n",
       "      <td>AMZN</td>\n",
       "    </tr>\n",
       "    <tr>\n",
       "      <th>3</th>\n",
       "      <td>2006-01-06</td>\n",
       "      <td>47.97</td>\n",
       "      <td>48.58</td>\n",
       "      <td>47.32</td>\n",
       "      <td>47.87</td>\n",
       "      <td>6154285</td>\n",
       "      <td>AMZN</td>\n",
       "    </tr>\n",
       "    <tr>\n",
       "      <th>4</th>\n",
       "      <td>2006-01-09</td>\n",
       "      <td>46.55</td>\n",
       "      <td>47.10</td>\n",
       "      <td>46.40</td>\n",
       "      <td>47.08</td>\n",
       "      <td>8945056</td>\n",
       "      <td>AMZN</td>\n",
       "    </tr>\n",
       "  </tbody>\n",
       "</table>\n",
       "</div>"
      ],
      "text/plain": [
       "         Date   Open   High    Low  Close   Volume  Name\n",
       "0  2006-01-03  47.47  47.85  46.25  47.58  7582127  AMZN\n",
       "1  2006-01-04  47.48  47.73  46.69  47.25  7440914  AMZN\n",
       "2  2006-01-05  47.16  48.20  47.11  47.65  5417258  AMZN\n",
       "3  2006-01-06  47.97  48.58  47.32  47.87  6154285  AMZN\n",
       "4  2006-01-09  46.55  47.10  46.40  47.08  8945056  AMZN"
      ]
     },
     "execution_count": 3,
     "metadata": {},
     "output_type": "execute_result"
    }
   ],
   "source": [
    "amzn.head()"
   ]
  },
  {
   "cell_type": "markdown",
   "metadata": {
    "deletable": false,
    "editable": false,
    "nbgrader": {
     "grade": false,
     "locked": true,
     "solution": false
    }
   },
   "source": [
    "### Question I: `to_ts_format`"
   ]
  },
  {
   "cell_type": "code",
   "execution_count": 61,
   "metadata": {},
   "outputs": [],
   "source": [
    "###GRADED\n",
    "def to_ts_format(df):\n",
    "    df['Date'] = pd.to_datetime(df['Date'])\n",
    "    df.set_index('Date', inplace = True)\n",
    "    return df"
   ]
  },
  {
   "cell_type": "code",
   "execution_count": 24,
   "metadata": {},
   "outputs": [
    {
     "name": "stdout",
     "output_type": "stream",
     "text": [
      "<class 'pandas.core.frame.DataFrame'>\n",
      "RangeIndex: 3019 entries, 0 to 3018\n",
      "Data columns (total 7 columns):\n",
      "Date      3019 non-null datetime64[ns]\n",
      "Open      3019 non-null float64\n",
      "High      3019 non-null float64\n",
      "Low       3019 non-null float64\n",
      "Close     3019 non-null float64\n",
      "Volume    3019 non-null int64\n",
      "Name      3019 non-null object\n",
      "dtypes: datetime64[ns](1), float64(4), int64(1), object(1)\n",
      "memory usage: 165.2+ KB\n",
      "None\n",
      "DatetimeIndex(['2006-01-03', '2006-01-04', '2006-01-05', '2006-01-06',\n",
      "               '2006-01-09', '2006-01-10', '2006-01-11', '2006-01-12',\n",
      "               '2006-01-13', '2006-01-17',\n",
      "               ...\n",
      "               '2017-12-15', '2017-12-18', '2017-12-19', '2017-12-20',\n",
      "               '2017-12-21', '2017-12-22', '2017-12-26', '2017-12-27',\n",
      "               '2017-12-28', '2017-12-29'],\n",
      "              dtype='datetime64[ns]', name='Date', length=3019, freq=None)\n"
     ]
    }
   ],
   "source": [
    "to_ts_format(amzn)\n",
    "    \n",
    "    '''\n",
    "    This function takes a DataFrame with a Date\n",
    "    column.  We return a DataFrame with the Date feature\n",
    "    as a datetime object and set to the index of the DataFrame.\n",
    "    '''"
   ]
  },
  {
   "cell_type": "code",
   "execution_count": 6,
   "metadata": {
    "collapsed": true,
    "deletable": false,
    "editable": false,
    "nbgrader": {
     "grade": true,
     "grade_id": "Question 01",
     "locked": true,
     "points": "10",
     "solution": false
    }
   },
   "outputs": [],
   "source": [
    "###\n",
    "### AUTOGRADER TEST - DO NOT REMOVE\n",
    "###\n"
   ]
  },
  {
   "cell_type": "markdown",
   "metadata": {
    "deletable": false,
    "editable": false,
    "nbgrader": {
     "grade": false,
     "locked": true,
     "solution": false
    }
   },
   "source": [
    "### Question 2: Closing Price by Month\n",
    "\n"
   ]
  },
  {
   "cell_type": "code",
   "execution_count": 4,
   "metadata": {
    "deletable": false,
    "editable": false,
    "nbgrader": {
     "grade": false,
     "locked": true,
     "solution": false
    }
   },
   "outputs": [
    {
     "data": {
      "text/html": [
       "<div>\n",
       "<style scoped>\n",
       "    .dataframe tbody tr th:only-of-type {\n",
       "        vertical-align: middle;\n",
       "    }\n",
       "\n",
       "    .dataframe tbody tr th {\n",
       "        vertical-align: top;\n",
       "    }\n",
       "\n",
       "    .dataframe thead th {\n",
       "        text-align: right;\n",
       "    }\n",
       "</style>\n",
       "<table border=\"1\" class=\"dataframe\">\n",
       "  <thead>\n",
       "    <tr style=\"text-align: right;\">\n",
       "      <th></th>\n",
       "      <th>Open</th>\n",
       "      <th>High</th>\n",
       "      <th>Low</th>\n",
       "      <th>Close</th>\n",
       "      <th>Volume</th>\n",
       "      <th>Name</th>\n",
       "    </tr>\n",
       "    <tr>\n",
       "      <th>Date</th>\n",
       "      <th></th>\n",
       "      <th></th>\n",
       "      <th></th>\n",
       "      <th></th>\n",
       "      <th></th>\n",
       "      <th></th>\n",
       "    </tr>\n",
       "  </thead>\n",
       "  <tbody>\n",
       "    <tr>\n",
       "      <th>2006-01-03</th>\n",
       "      <td>47.47</td>\n",
       "      <td>47.85</td>\n",
       "      <td>46.25</td>\n",
       "      <td>47.58</td>\n",
       "      <td>7582127</td>\n",
       "      <td>AMZN</td>\n",
       "    </tr>\n",
       "    <tr>\n",
       "      <th>2006-01-04</th>\n",
       "      <td>47.48</td>\n",
       "      <td>47.73</td>\n",
       "      <td>46.69</td>\n",
       "      <td>47.25</td>\n",
       "      <td>7440914</td>\n",
       "      <td>AMZN</td>\n",
       "    </tr>\n",
       "    <tr>\n",
       "      <th>2006-01-05</th>\n",
       "      <td>47.16</td>\n",
       "      <td>48.20</td>\n",
       "      <td>47.11</td>\n",
       "      <td>47.65</td>\n",
       "      <td>5417258</td>\n",
       "      <td>AMZN</td>\n",
       "    </tr>\n",
       "    <tr>\n",
       "      <th>2006-01-06</th>\n",
       "      <td>47.97</td>\n",
       "      <td>48.58</td>\n",
       "      <td>47.32</td>\n",
       "      <td>47.87</td>\n",
       "      <td>6154285</td>\n",
       "      <td>AMZN</td>\n",
       "    </tr>\n",
       "    <tr>\n",
       "      <th>2006-01-09</th>\n",
       "      <td>46.55</td>\n",
       "      <td>47.10</td>\n",
       "      <td>46.40</td>\n",
       "      <td>47.08</td>\n",
       "      <td>8945056</td>\n",
       "      <td>AMZN</td>\n",
       "    </tr>\n",
       "  </tbody>\n",
       "</table>\n",
       "</div>"
      ],
      "text/plain": [
       "             Open   High    Low  Close   Volume  Name\n",
       "Date                                                 \n",
       "2006-01-03  47.47  47.85  46.25  47.58  7582127  AMZN\n",
       "2006-01-04  47.48  47.73  46.69  47.25  7440914  AMZN\n",
       "2006-01-05  47.16  48.20  47.11  47.65  5417258  AMZN\n",
       "2006-01-06  47.97  48.58  47.32  47.87  6154285  AMZN\n",
       "2006-01-09  46.55  47.10  46.40  47.08  8945056  AMZN"
      ]
     },
     "execution_count": 4,
     "metadata": {},
     "output_type": "execute_result"
    }
   ],
   "source": [
    "amzn = pd.read_csv('../resource/asnlib/publicdata/amzn_prepared.csv', index_col = 0, parse_dates = True)\n",
    "amzn.head()"
   ]
  },
  {
   "cell_type": "code",
   "execution_count": 5,
   "metadata": {
    "collapsed": true
   },
   "outputs": [],
   "source": [
    "###GRADED\n",
    "###QUESTION 2\n",
    "###Compute the average Closing price by quarter.\n",
    "###Save your results to the variable amzn_mean_close_by_quarter.\n",
    "###HINT: Use the .resample() method.\n",
    "amzn_mean_close_by_quarter = amzn.resample('Q')['Close'].mean()\n",
    "#print(amzn_mean_close_by_quarter)\n",
    "###\n",
    "### YOUR CODE HERE\n",
    "###\n"
   ]
  },
  {
   "cell_type": "code",
   "execution_count": 6,
   "metadata": {
    "collapsed": true,
    "deletable": false,
    "editable": false,
    "nbgrader": {
     "grade": true,
     "grade_id": "Question 02",
     "locked": true,
     "points": "10",
     "solution": false
    }
   },
   "outputs": [],
   "source": [
    "###\n",
    "### AUTOGRADER TEST - DO NOT REMOVE\n",
    "###\n"
   ]
  },
  {
   "cell_type": "markdown",
   "metadata": {
    "deletable": false,
    "editable": false,
    "nbgrader": {
     "grade": false,
     "locked": true,
     "solution": false
    }
   },
   "source": [
    "### Question 3: Moving Average"
   ]
  },
  {
   "cell_type": "code",
   "execution_count": 7,
   "metadata": {
    "collapsed": true
   },
   "outputs": [],
   "source": [
    "###GRADED\n",
    "amzn_20day_mvg_avg = amzn['Close'].rolling(20).mean()\n",
    "###\n",
    "### YOUR CODE HERE\n",
    "###\n"
   ]
  },
  {
   "cell_type": "code",
   "execution_count": 8,
   "metadata": {
    "collapsed": true,
    "deletable": false,
    "editable": false,
    "nbgrader": {
     "grade": true,
     "grade_id": "Question 03",
     "locked": true,
     "points": "10",
     "solution": false
    }
   },
   "outputs": [],
   "source": [
    "###\n",
    "### AUTOGRADER TEST - DO NOT REMOVE\n",
    "###\n"
   ]
  },
  {
   "cell_type": "code",
   "execution_count": 9,
   "metadata": {
    "collapsed": true,
    "deletable": false,
    "editable": false,
    "nbgrader": {
     "grade": false,
     "locked": true,
     "solution": false
    }
   },
   "outputs": [],
   "source": [
    "from statsmodels.graphics.tsaplots import plot_acf, plot_pacf"
   ]
  },
  {
   "cell_type": "markdown",
   "metadata": {
    "deletable": false,
    "editable": false,
    "nbgrader": {
     "grade": false,
     "locked": true,
     "solution": false
    }
   },
   "source": [
    "### Question 4:  Stationarity\n",
    "\n",
    "![](amzn_autocorr.png)"
   ]
  },
  {
   "cell_type": "code",
   "execution_count": 10,
   "metadata": {},
   "outputs": [
    {
     "data": {
      "image/png": "[encoded data removed]",
      "text/plain": [
       "<Figure size 432x288 with 1 Axes>"
      ]
     },
     "metadata": {},
     "output_type": "display_data"
    }
   ],
   "source": [
    "###GRADED\n",
    "###QUESTION 4\n",
    "###Based on the Autocorrelation plot of AMZN's closing\n",
    "###prices, believe the time series is stationary.\n",
    "###Assign a boolean answer to ans_4 below.\n",
    "from pandas.plotting import autocorrelation_plot\n",
    "data = amzn['Close']\n",
    "autocorrelation_plot(data)\n",
    "ans_4 = False\n",
    "###\n",
    "### YOUR CODE HERE\n",
    "###\n"
   ]
  },
  {
   "cell_type": "code",
   "execution_count": 11,
   "metadata": {
    "collapsed": true,
    "deletable": false,
    "editable": false,
    "nbgrader": {
     "grade": true,
     "grade_id": "Question 04",
     "locked": true,
     "points": "10",
     "solution": false
    }
   },
   "outputs": [],
   "source": [
    "###\n",
    "### AUTOGRADER TEST - DO NOT REMOVE\n",
    "###\n"
   ]
  },
  {
   "cell_type": "markdown",
   "metadata": {
    "deletable": false,
    "editable": false,
    "nbgrader": {
     "grade": false,
     "locked": true,
     "solution": false
    }
   },
   "source": [
    "### Question 5: Augmented Dickey Fuller test\n",
    "\n"
   ]
  },
  {
   "cell_type": "code",
   "execution_count": 12,
   "metadata": {
    "collapsed": true,
    "deletable": false,
    "editable": false,
    "nbgrader": {
     "grade": false,
     "locked": true,
     "solution": false
    }
   },
   "outputs": [],
   "source": [
    "from statsmodels.tsa.stattools import adfuller"
   ]
  },
  {
   "cell_type": "code",
   "execution_count": 13,
   "metadata": {
    "deletable": false,
    "editable": false,
    "nbgrader": {
     "grade": false,
     "locked": true,
     "solution": false
    }
   },
   "outputs": [
    {
     "data": {
      "text/plain": [
       "1.0"
      ]
     },
     "execution_count": 13,
     "metadata": {},
     "output_type": "execute_result"
    }
   ],
   "source": [
    "adfuller(amzn.Close)[1]"
   ]
  },
  {
   "cell_type": "code",
   "execution_count": 14,
   "metadata": {
    "deletable": false,
    "editable": false,
    "nbgrader": {
     "grade": false,
     "locked": true,
     "solution": false
    }
   },
   "outputs": [
    {
     "data": {
      "text/plain": [
       "1.0983139936571346e-17"
      ]
     },
     "execution_count": 14,
     "metadata": {},
     "output_type": "execute_result"
    }
   ],
   "source": [
    "adfuller(amzn.Close.diff().dropna())[1]"
   ]
  },
  {
   "cell_type": "code",
   "execution_count": 15,
   "metadata": {
    "collapsed": true
   },
   "outputs": [],
   "source": [
    "###GRADED\n",
    "###QUESTION 5\n",
    "###Interpret  the results of the augmented Dickey-Fuller test\n",
    "###by selecting all valid statements below.  Assign your solutions\n",
    "###as strings in the list ans_5 (i.e. ans_5 = ['a', 'c']):\n",
    "###a) We fail to reject the null hypothesis for the original series x\n",
    "###b) We reject the null hypothesis for the first difference of the original series x\n",
    "###c) neither the original or diff'd version of the series is stationary \n",
    "###d) We fail to reject the null hypothesis that the first difference is stationary.\n",
    "ans_5 = ['a','b']\n",
    "###\n",
    "### YOUR CODE HERE\n",
    "###\n"
   ]
  },
  {
   "cell_type": "code",
   "execution_count": 16,
   "metadata": {
    "collapsed": true,
    "deletable": false,
    "editable": false,
    "nbgrader": {
     "grade": true,
     "grade_id": "Question 05",
     "locked": true,
     "points": "10",
     "solution": false
    }
   },
   "outputs": [],
   "source": [
    "###\n",
    "### AUTOGRADER TEST - DO NOT REMOVE\n",
    "###\n"
   ]
  },
  {
   "cell_type": "markdown",
   "metadata": {
    "deletable": false,
    "editable": false,
    "nbgrader": {
     "grade": false,
     "locked": true,
     "solution": false
    }
   },
   "source": [
    "### Question 6: Train/Test Split\n",
    "\n",
    "Below, we create a training and testing set for our models.  As discussed in the lectures, we want to create these splits in order rather than a random selection of observations.  For us, we will use data starting in **2016** for our training data, and the final ten days of data as our testing data."
   ]
  },
  {
   "cell_type": "code",
   "execution_count": 17,
   "metadata": {},
   "outputs": [
    {
     "name": "stdout",
     "output_type": "stream",
     "text": [
      "Date\n",
      "2016-01-04     636.99\n",
      "2016-01-05     633.79\n",
      "2016-01-06     632.65\n",
      "2016-01-07     607.94\n",
      "2016-01-08     607.05\n",
      "2016-01-11     617.74\n",
      "2016-01-12     617.89\n",
      "2016-01-13     581.81\n",
      "2016-01-14     593.00\n",
      "2016-01-15     570.18\n",
      "2016-01-19     574.48\n",
      "2016-01-20     571.77\n",
      "2016-01-21     575.02\n",
      "2016-01-22     596.38\n",
      "2016-01-25     596.53\n",
      "2016-01-26     601.25\n",
      "2016-01-27     583.35\n",
      "2016-01-28     635.35\n",
      "2016-01-29     587.00\n",
      "2016-02-01     574.81\n",
      "2016-02-02     552.10\n",
      "2016-02-03     531.07\n",
      "2016-02-04     536.26\n",
      "2016-02-05     502.13\n",
      "2016-02-08     488.10\n",
      "2016-02-09     482.07\n",
      "2016-02-10     490.48\n",
      "2016-02-11     503.82\n",
      "2016-02-12     507.08\n",
      "2016-02-16     521.10\n",
      "               ...   \n",
      "2017-11-02    1094.22\n",
      "2017-11-03    1111.60\n",
      "2017-11-06    1120.66\n",
      "2017-11-07    1123.17\n",
      "2017-11-08    1132.88\n",
      "2017-11-09    1129.13\n",
      "2017-11-10    1125.35\n",
      "2017-11-13    1129.17\n",
      "2017-11-14    1136.84\n",
      "2017-11-15    1126.69\n",
      "2017-11-16    1137.29\n",
      "2017-11-17    1129.88\n",
      "2017-11-20    1126.31\n",
      "2017-11-21    1139.49\n",
      "2017-11-22    1156.16\n",
      "2017-11-24    1186.00\n",
      "2017-11-27    1195.83\n",
      "2017-11-28    1193.60\n",
      "2017-11-29    1161.27\n",
      "2017-11-30    1176.75\n",
      "2017-12-01    1162.35\n",
      "2017-12-04    1133.95\n",
      "2017-12-05    1141.57\n",
      "2017-12-06    1152.35\n",
      "2017-12-07    1159.79\n",
      "2017-12-08    1162.00\n",
      "2017-12-11    1168.92\n",
      "2017-12-12    1165.08\n",
      "2017-12-13    1164.13\n",
      "2017-12-14    1174.26\n",
      "Name: Close, Length: 493, dtype: float64\n",
      "Date\n",
      "2017-12-15    1179.14\n",
      "2017-12-18    1190.58\n",
      "2017-12-19    1187.38\n",
      "2017-12-20    1177.62\n",
      "2017-12-21    1174.76\n",
      "2017-12-22    1168.36\n",
      "2017-12-26    1176.76\n",
      "2017-12-27    1182.26\n",
      "2017-12-28    1186.10\n",
      "2017-12-29    1169.47\n",
      "Name: Close, dtype: float64\n"
     ]
    }
   ],
   "source": [
    "###GRADED\n",
    "###Training Data starts in 2016\n",
    "###Testing Data is last 10 observations in dataset.\n",
    "###Both should be pandas series type indexed by date.\n",
    "###The last date in train should be '2017-12-14'.\n",
    "\n",
    "amzn_train = amzn['2016':'2017-12-14']\n",
    "series = pd.Series(amzn_train['Close'], index=amzn_train.index)\n",
    "\n",
    "train = series[:]\n",
    "print(train)\n",
    "\n",
    "amzn_test = amzn[-10:]\n",
    "series2 = pd.Series(amzn_test['Close'], index=amzn_test.index)\n",
    "\n",
    "test = series2[:]\n",
    "print(test)\n",
    "\n",
    "###\n",
    "### YOUR CODE HERE\n",
    "###\n"
   ]
  },
  {
   "cell_type": "code",
   "execution_count": 18,
   "metadata": {
    "collapsed": true,
    "deletable": false,
    "editable": false,
    "nbgrader": {
     "grade": true,
     "grade_id": "Question 06",
     "locked": true,
     "points": "10",
     "solution": false
    }
   },
   "outputs": [],
   "source": [
    "###\n",
    "### AUTOGRADER TEST - DO NOT REMOVE\n",
    "###\n"
   ]
  },
  {
   "cell_type": "markdown",
   "metadata": {
    "deletable": false,
    "editable": false,
    "nbgrader": {
     "grade": false,
     "locked": true,
     "solution": false
    }
   },
   "source": [
    "### Question 7: Building the Autoregressive Model\n",
    "\n",
    "Adjust the `ARIMA` instance below to build an autoregression model using your training data from **Question 6**.  This model should work on the first difference of the original closing price,  and use one prior term or an order 1 `AR` model.  "
   ]
  },
  {
   "cell_type": "code",
   "execution_count": 19,
   "metadata": {
    "collapsed": true,
    "deletable": false,
    "editable": false,
    "nbgrader": {
     "grade": false,
     "locked": true,
     "solution": false
    }
   },
   "outputs": [],
   "source": [
    "from statsmodels.tsa.arima_model import ARIMA"
   ]
  },
  {
   "cell_type": "code",
   "execution_count": 20,
   "metadata": {
    "collapsed": true
   },
   "outputs": [],
   "source": [
    "ar = ARIMA(train, order = (1, 1, 0))\n",
    "model = ar.fit() #fit the model here\n",
    "###\n",
    "### YOUR CODE HERE\n",
    "###\n"
   ]
  },
  {
   "cell_type": "code",
   "execution_count": 21,
   "metadata": {
    "collapsed": true,
    "deletable": false,
    "editable": false,
    "nbgrader": {
     "grade": true,
     "grade_id": "Question 07",
     "locked": true,
     "points": "10",
     "solution": false
    }
   },
   "outputs": [],
   "source": [
    "###\n",
    "### AUTOGRADER TEST - DO NOT REMOVE\n",
    "###\n"
   ]
  },
  {
   "cell_type": "markdown",
   "metadata": {
    "deletable": false,
    "editable": false,
    "nbgrader": {
     "grade": false,
     "locked": true,
     "solution": false
    }
   },
   "source": [
    "### Question 8: Making Predictions"
   ]
  },
  {
   "cell_type": "code",
   "execution_count": 46,
   "metadata": {},
   "outputs": [
    {
     "name": "stdout",
     "output_type": "stream",
     "text": [
      "Date\n",
      "2017-12-15    1175.514920\n",
      "2017-12-18    1176.610038\n",
      "2017-12-19    1177.702278\n",
      "2017-12-20    1178.794466\n",
      "2017-12-21    1179.886653\n",
      "2017-12-22    1180.978841\n",
      "2017-12-26    1182.071028\n",
      "2017-12-27    1183.163216\n",
      "2017-12-28    1184.255403\n",
      "2017-12-29    1185.347590\n",
      "dtype: float64\n"
     ]
    }
   ],
   "source": [
    "###GRADED\n",
    "###QUESTION 8\n",
    "###Use your fit model instance to generate a forecast for the \n",
    "###next 10 days closing prices.  (HINT: Use the .forecast() method!)\n",
    "###Assign your solution as a series of predictions with appropriate index to ar_predictions below.\n",
    "forecast = model.forecast(steps = 10)\n",
    "\n",
    "ar_predictions = pd.Series(forecast[0], index = series2.index)\n",
    "print(ar_predictions)\n",
    "\n",
    "\n",
    "###\n",
    "### YOUR CODE HERE\n",
    "###\n"
   ]
  },
  {
   "cell_type": "code",
   "execution_count": null,
   "metadata": {
    "collapsed": true,
    "deletable": false,
    "editable": false,
    "nbgrader": {
     "grade": true,
     "grade_id": "Question 08",
     "locked": true,
     "points": "10",
     "solution": false
    }
   },
   "outputs": [],
   "source": [
    "###\n",
    "### AUTOGRADER TEST - DO NOT REMOVE\n",
    "###\n"
   ]
  },
  {
   "cell_type": "markdown",
   "metadata": {
    "deletable": false,
    "editable": false,
    "nbgrader": {
     "grade": false,
     "locked": true,
     "solution": false
    }
   },
   "source": [
    "**Plotting Predictions**\n",
    "\n",
    "![](predictions.png)"
   ]
  },
  {
   "cell_type": "markdown",
   "metadata": {
    "deletable": false,
    "editable": false,
    "nbgrader": {
     "grade": false,
     "locked": true,
     "solution": false
    }
   },
   "source": [
    "### Question 9: MSE and RMSE"
   ]
  },
  {
   "cell_type": "code",
   "execution_count": 57,
   "metadata": {},
   "outputs": [
    {
     "name": "stdout",
     "output_type": "stream",
     "text": [
      "                      0    Close  squared_error\n",
      "Date                                           \n",
      "2017-12-15  1175.514920  1179.14      13.141204\n",
      "2017-12-18  1176.610038  1190.58     195.159849\n",
      "2017-12-19  1177.702278  1187.38      93.658308\n",
      "2017-12-20  1178.794466  1177.62       1.379370\n",
      "2017-12-21  1179.886653  1174.76      26.282575\n",
      "2017-12-22  1180.978841  1168.36     159.235143\n",
      "2017-12-26  1182.071028  1176.76      28.207020\n",
      "2017-12-27  1183.163216  1182.26       0.815798\n",
      "2017-12-28  1184.255403  1186.10       3.402539\n",
      "2017-12-29  1185.347590  1169.47     252.097872\n",
      "77.33796785592963 8.794200808255951\n"
     ]
    }
   ],
   "source": [
    "###GRADED\n",
    "###Question 9\n",
    "###Compute the Mean Squared Error and \n",
    "###Root Mean Squared Error on the testing data.\n",
    "test_9 = pd.DataFrame(test)\n",
    "pred_df = pd.DataFrame(ar_predictions)\n",
    "pred_df['Close'] = test_9['Close']\n",
    "pred_df['squared_error'] = (pred_df['Close'] - pred_df[0])**2\n",
    "print(pred_df)\n",
    "\n",
    "mse = np.mean(pred_df['squared_error'])\n",
    "rmse = np.sqrt(mse)\n",
    "\n",
    "print(mse, rmse)\n",
    "###\n",
    "### YOUR CODE HERE\n",
    "###\n"
   ]
  },
  {
   "cell_type": "code",
   "execution_count": null,
   "metadata": {
    "collapsed": true,
    "deletable": false,
    "editable": false,
    "nbgrader": {
     "grade": true,
     "grade_id": "Question 09",
     "locked": true,
     "points": "10",
     "solution": false
    }
   },
   "outputs": [],
   "source": [
    "###\n",
    "### AUTOGRADER TEST - DO NOT REMOVE\n",
    "###\n"
   ]
  },
  {
   "cell_type": "markdown",
   "metadata": {
    "deletable": false,
    "editable": false,
    "nbgrader": {
     "grade": false,
     "locked": true,
     "solution": false
    }
   },
   "source": [
    "### Question 10: ARIMA Model"
   ]
  },
  {
   "cell_type": "code",
   "execution_count": 69,
   "metadata": {
    "collapsed": true
   },
   "outputs": [],
   "source": [
    "###GRADED\n",
    "###Question 10\n",
    "###Adjust the ARIMA Model below to fit a model with 1 AR term\n",
    "###on the first difference of the training data with 1 moving average term.\n",
    "ar = ARIMA(train, order = (1, 1, 1))\n",
    "model = ar.fit() \n",
    "###\n",
    "### YOUR CODE HERE\n",
    "###\n"
   ]
  },
  {
   "cell_type": "code",
   "execution_count": null,
   "metadata": {
    "collapsed": true,
    "deletable": false,
    "editable": false,
    "nbgrader": {
     "grade": true,
     "grade_id": "Question 10",
     "locked": true,
     "points": "10",
     "solution": false
    }
   },
   "outputs": [],
   "source": [
    "###\n",
    "### AUTOGRADER TEST - DO NOT REMOVE\n",
    "###\n"
   ]
  },
  {
   "cell_type": "markdown",
   "metadata": {
    "deletable": false,
    "editable": false,
    "nbgrader": {
     "grade": false,
     "locked": true,
     "solution": false
    }
   },
   "source": [
    "### Question 11: Evaluating Results MSE and RMSE"
   ]
  },
  {
   "cell_type": "code",
   "execution_count": 59,
   "metadata": {},
   "outputs": [
    {
     "name": "stdout",
     "output_type": "stream",
     "text": [
      "                      0    Close  squared_error\n",
      "Date                                           \n",
      "2017-12-15  1175.514920  1179.14      13.141204\n",
      "2017-12-18  1176.610038  1190.58     195.159849\n",
      "2017-12-19  1177.702278  1187.38      93.658308\n",
      "2017-12-20  1178.794466  1177.62       1.379370\n",
      "2017-12-21  1179.886653  1174.76      26.282575\n",
      "2017-12-22  1180.978841  1168.36     159.235143\n",
      "2017-12-26  1182.071028  1176.76      28.207020\n",
      "2017-12-27  1183.163216  1182.26       0.815798\n",
      "2017-12-28  1184.255403  1186.10       3.402539\n",
      "2017-12-29  1185.347590  1169.47     252.097872\n",
      "77.33796785592963 8.794200808255951\n"
     ]
    }
   ],
   "source": [
    "###GRADED\n",
    "###QUESTION 11\n",
    "###Use your fit ARIMA model to evaluate the Mean Squared Error\n",
    "###and Root Mean Squared Error on the test dataset.\n",
    "forecast2 = model.forecast(steps = 10)\n",
    "ar2_predictions = pd.Series(forecast2[0], index = series2.index)\n",
    "pred_df = pd.DataFrame(ar2_predictions)\n",
    "pred_df['Close'] = test_9['Close']\n",
    "pred_df['squared_error'] = (pred_df['Close'] - pred_df[0])**2\n",
    "print(pred_df)\n",
    "\n",
    "\n",
    "mse = np.mean(pred_df['squared_error'])\n",
    "rmse = np.sqrt(mse)\n",
    "print(mse, rmse)\n",
    "###\n",
    "### YOUR CODE HERE\n",
    "###\n"
   ]
  },
  {
   "cell_type": "code",
   "execution_count": null,
   "metadata": {
    "collapsed": true,
    "deletable": false,
    "editable": false,
    "nbgrader": {
     "grade": true,
     "grade_id": "Question 11",
     "locked": true,
     "points": "10",
     "solution": false
    }
   },
   "outputs": [],
   "source": [
    "###\n",
    "### AUTOGRADER TEST - DO NOT REMOVE\n",
    "###\n"
   ]
  },
  {
   "cell_type": "markdown",
   "metadata": {
    "deletable": false,
    "editable": false,
    "nbgrader": {
     "grade": false,
     "locked": true,
     "solution": false
    }
   },
   "source": [
    "### What's Next\n",
    "\n",
    "As we saw in the lectures, these values for parameters `p, q`, and `d` might not be just right.  We would like to also consider some near values in the vicinity of our already tested.  You may want to run a grid search over some different parameters -- comparing the performance on predicting your test data."
   ]
  }
 ],
 "metadata": {
  "kernelspec": {
   "display_name": "Python 3",
   "language": "python",
   "name": "python3"
  },
  "language_info": {
   "codemirror_mode": {
    "name": "ipython",
    "version": 3
   },
   "file_extension": ".py",
   "mimetype": "text/x-python",
   "name": "python",
   "nbconvert_exporter": "python",
   "pygments_lexer": "ipython3",
   "version": "3.7.6"
  }
 },
 "nbformat": 4,
 "nbformat_minor": 4
}
